{
 "cells": [
  {
   "cell_type": "markdown",
   "metadata": {
    "focus": false,
    "id": "69b9a648-bcc7-490d-9f9b-ea244d156bd6"
   },
   "source": [
    "# Other Reddits\n",
    "\n",
    "In this notebook, I am going to take a look at what reddit posts characteristics most accurately predict which subreddits when one subreddit is a subcategory of the other. "
   ]
  },
  {
   "cell_type": "markdown",
   "metadata": {},
   "source": [
    "### Import Libraries"
   ]
  },
  {
   "cell_type": "code",
   "execution_count": 1,
   "metadata": {},
   "outputs": [],
   "source": [
    "import pandas as pd\n",
    "import numpy as np\n",
    "import matplotlib.pyplot as plt\n",
    "import scipy.stats as stats\n",
    "import seaborn as sns\n",
    "import time\n",
    "\n",
    "from sklearn.model_selection import train_test_split, GridSearchCV, cross_val_score\n",
    "from sklearn.naive_bayes import MultinomialNB\n",
    "from sklearn.feature_extraction.text import CountVectorizer, HashingVectorizer, TfidfVectorizer\n",
    "from sklearn.linear_model import LogisticRegression\n",
    "from sklearn.neighbors import KNeighborsClassifier\n",
    "from sklearn.ensemble import RandomForestClassifier\n",
    "from sklearn.metrics import confusion_matrix, r2_score, accuracy_score, roc_auc_score, roc_curve, auc\n",
    "from sklearn.pipeline import Pipeline\n",
    "\n",
    "import regex as re\n",
    "import nltk\n",
    "from nltk.stem import WordNetLemmatizer\n",
    "from nltk.stem.porter import PorterStemmer\n",
    "from nltk.corpus import stopwords\n",
    "from nltk.tokenize import RegexpTokenizer\n",
    "from bs4 import BeautifulSoup \n",
    "\n",
    "%matplotlib inline"
   ]
  },
  {
   "cell_type": "code",
   "execution_count": 2,
   "metadata": {},
   "outputs": [],
   "source": [
    "import warnings\n",
    "warnings.filterwarnings('ignore')"
   ]
  },
  {
   "cell_type": "markdown",
   "metadata": {},
   "source": [
    "## Load Data"
   ]
  },
  {
   "cell_type": "code",
   "execution_count": 3,
   "metadata": {},
   "outputs": [],
   "source": [
    "df1 = pd.read_csv('./Crypto_Currency_News.csv', index_col=0)\n",
    "df2 = pd.read_csv('./Bitcoin.csv', index_col=0)"
   ]
  },
  {
   "cell_type": "code",
   "execution_count": 4,
   "metadata": {},
   "outputs": [
    {
     "data": {
      "text/html": [
       "<div>\n",
       "<style scoped>\n",
       "    .dataframe tbody tr th:only-of-type {\n",
       "        vertical-align: middle;\n",
       "    }\n",
       "\n",
       "    .dataframe tbody tr th {\n",
       "        vertical-align: top;\n",
       "    }\n",
       "\n",
       "    .dataframe thead th {\n",
       "        text-align: right;\n",
       "    }\n",
       "</style>\n",
       "<table border=\"1\" class=\"dataframe\">\n",
       "  <thead>\n",
       "    <tr style=\"text-align: right;\">\n",
       "      <th></th>\n",
       "      <th>title</th>\n",
       "      <th>post</th>\n",
       "      <th>author</th>\n",
       "      <th>subreddit</th>\n",
       "    </tr>\n",
       "  </thead>\n",
       "  <tbody>\n",
       "    <tr>\n",
       "      <th>0</th>\n",
       "      <td>NO ICO PROMOTION HERE - Immediately Removed</td>\n",
       "      <td>Please to not promote your ICO here.  There ar...</td>\n",
       "      <td>gjsteele71</td>\n",
       "      <td>Crypto_Currency_News</td>\n",
       "    </tr>\n",
       "    <tr>\n",
       "      <th>1</th>\n",
       "      <td>Sticky Rules - Please Read &amp;amp; Follow</td>\n",
       "      <td>There are already Reddits for each of the Coin...</td>\n",
       "      <td>SSpaid2</td>\n",
       "      <td>Crypto_Currency_News</td>\n",
       "    </tr>\n",
       "    <tr>\n",
       "      <th>2</th>\n",
       "      <td>The internet needs fixing from the ground up a...</td>\n",
       "      <td>NaN</td>\n",
       "      <td>Abhi_krish</td>\n",
       "      <td>Crypto_Currency_News</td>\n",
       "    </tr>\n",
       "    <tr>\n",
       "      <th>3</th>\n",
       "      <td>IBM Reveals Stellar-Based ‘Near Real-Time’ Blo...</td>\n",
       "      <td>NaN</td>\n",
       "      <td>DizzyOpportunity6</td>\n",
       "      <td>Crypto_Currency_News</td>\n",
       "    </tr>\n",
       "    <tr>\n",
       "      <th>4</th>\n",
       "      <td>Brazil to Receive 1,000 Multi-Crypto Point of ...</td>\n",
       "      <td>NaN</td>\n",
       "      <td>dragonstail1111</td>\n",
       "      <td>Crypto_Currency_News</td>\n",
       "    </tr>\n",
       "  </tbody>\n",
       "</table>\n",
       "</div>"
      ],
      "text/plain": [
       "                                               title  \\\n",
       "0        NO ICO PROMOTION HERE - Immediately Removed   \n",
       "1            Sticky Rules - Please Read &amp; Follow   \n",
       "2  The internet needs fixing from the ground up a...   \n",
       "3  IBM Reveals Stellar-Based ‘Near Real-Time’ Blo...   \n",
       "4  Brazil to Receive 1,000 Multi-Crypto Point of ...   \n",
       "\n",
       "                                                post             author  \\\n",
       "0  Please to not promote your ICO here.  There ar...         gjsteele71   \n",
       "1  There are already Reddits for each of the Coin...            SSpaid2   \n",
       "2                                                NaN         Abhi_krish   \n",
       "3                                                NaN  DizzyOpportunity6   \n",
       "4                                                NaN    dragonstail1111   \n",
       "\n",
       "              subreddit  \n",
       "0  Crypto_Currency_News  \n",
       "1  Crypto_Currency_News  \n",
       "2  Crypto_Currency_News  \n",
       "3  Crypto_Currency_News  \n",
       "4  Crypto_Currency_News  "
      ]
     },
     "execution_count": 4,
     "metadata": {},
     "output_type": "execute_result"
    }
   ],
   "source": [
    "#check \n",
    "df1.head()"
   ]
  },
  {
   "cell_type": "code",
   "execution_count": 5,
   "metadata": {
    "scrolled": true
   },
   "outputs": [
    {
     "data": {
      "text/html": [
       "<div>\n",
       "<style scoped>\n",
       "    .dataframe tbody tr th:only-of-type {\n",
       "        vertical-align: middle;\n",
       "    }\n",
       "\n",
       "    .dataframe tbody tr th {\n",
       "        vertical-align: top;\n",
       "    }\n",
       "\n",
       "    .dataframe thead th {\n",
       "        text-align: right;\n",
       "    }\n",
       "</style>\n",
       "<table border=\"1\" class=\"dataframe\">\n",
       "  <thead>\n",
       "    <tr style=\"text-align: right;\">\n",
       "      <th></th>\n",
       "      <th>title</th>\n",
       "      <th>post</th>\n",
       "      <th>author</th>\n",
       "      <th>subreddit</th>\n",
       "    </tr>\n",
       "  </thead>\n",
       "  <tbody>\n",
       "    <tr>\n",
       "      <th>769</th>\n",
       "      <td>This trend is just that meets my thoughts. How...</td>\n",
       "      <td>&amp;amp;#x200B;\\n\\nhttps://i.redd.it/ymu94fhu97j1...</td>\n",
       "      <td>fuqin08</td>\n",
       "      <td>Bitcoin</td>\n",
       "    </tr>\n",
       "    <tr>\n",
       "      <th>770</th>\n",
       "      <td>Check out my walkthrough on the behind the sce...</td>\n",
       "      <td>NaN</td>\n",
       "      <td>CryptoQuantamental</td>\n",
       "      <td>Bitcoin</td>\n",
       "    </tr>\n",
       "    <tr>\n",
       "      <th>771</th>\n",
       "      <td>Dang boys I knew the price was down, but has i...</td>\n",
       "      <td>NaN</td>\n",
       "      <td>taylorpetersen2</td>\n",
       "      <td>Bitcoin</td>\n",
       "    </tr>\n",
       "    <tr>\n",
       "      <th>772</th>\n",
       "      <td>Gave this meme a little makeover</td>\n",
       "      <td>NaN</td>\n",
       "      <td>oskararnarson</td>\n",
       "      <td>Bitcoin</td>\n",
       "    </tr>\n",
       "    <tr>\n",
       "      <th>773</th>\n",
       "      <td>How I feel about Bitcoin</td>\n",
       "      <td>NaN</td>\n",
       "      <td>adrian23q</td>\n",
       "      <td>Bitcoin</td>\n",
       "    </tr>\n",
       "  </tbody>\n",
       "</table>\n",
       "</div>"
      ],
      "text/plain": [
       "                                                 title  \\\n",
       "769  This trend is just that meets my thoughts. How...   \n",
       "770  Check out my walkthrough on the behind the sce...   \n",
       "771  Dang boys I knew the price was down, but has i...   \n",
       "772                   Gave this meme a little makeover   \n",
       "773                           How I feel about Bitcoin   \n",
       "\n",
       "                                                  post              author  \\\n",
       "769  &amp;#x200B;\\n\\nhttps://i.redd.it/ymu94fhu97j1...             fuqin08   \n",
       "770                                                NaN  CryptoQuantamental   \n",
       "771                                                NaN     taylorpetersen2   \n",
       "772                                                NaN       oskararnarson   \n",
       "773                                                NaN           adrian23q   \n",
       "\n",
       "    subreddit  \n",
       "769   Bitcoin  \n",
       "770   Bitcoin  \n",
       "771   Bitcoin  \n",
       "772   Bitcoin  \n",
       "773   Bitcoin  "
      ]
     },
     "execution_count": 5,
     "metadata": {},
     "output_type": "execute_result"
    }
   ],
   "source": [
    "df2.tail()"
   ]
  },
  {
   "cell_type": "code",
   "execution_count": 6,
   "metadata": {},
   "outputs": [
    {
     "name": "stdout",
     "output_type": "stream",
     "text": [
      "(892, 4)\n",
      "(774, 4)\n",
      "1666\n"
     ]
    }
   ],
   "source": [
    "#print to see how many rows\n",
    "print(df1.shape)\n",
    "print(df2.shape)\n",
    "print(892+774)"
   ]
  },
  {
   "cell_type": "code",
   "execution_count": 7,
   "metadata": {},
   "outputs": [],
   "source": [
    "#concat the two df\n",
    "all_df = [df1, df2]\n",
    "df = pd.concat(all_df).reset_index(drop=True)"
   ]
  },
  {
   "cell_type": "code",
   "execution_count": 8,
   "metadata": {
    "scrolled": true
   },
   "outputs": [
    {
     "data": {
      "text/plain": [
       "(1666, 4)"
      ]
     },
     "execution_count": 8,
     "metadata": {},
     "output_type": "execute_result"
    }
   ],
   "source": [
    "#confirm final shape\n",
    "df.shape"
   ]
  },
  {
   "cell_type": "markdown",
   "metadata": {
    "focus": false,
    "id": "db045898-1d2d-4af2-8e79-437c4c7546b4"
   },
   "source": [
    "## Preprocessing"
   ]
  },
  {
   "cell_type": "code",
   "execution_count": 9,
   "metadata": {},
   "outputs": [],
   "source": [
    "#change target column to binary so talesfromtech will be 1 and jokes will be 0\n",
    "df['subreddit'] = [1 if i == 'Bitcoin' else 0 for i in df['subreddit']]"
   ]
  },
  {
   "cell_type": "code",
   "execution_count": 10,
   "metadata": {},
   "outputs": [],
   "source": [
    "#check to make sure it works\n",
    "# df.head()\n",
    "# df.tail()"
   ]
  },
  {
   "cell_type": "code",
   "execution_count": 11,
   "metadata": {},
   "outputs": [],
   "source": [
    "#Check what our titles look like\n",
    "# df['title'][5]"
   ]
  },
  {
   "cell_type": "code",
   "execution_count": 12,
   "metadata": {},
   "outputs": [],
   "source": [
    "#Check what our posts look like\n",
    "# df['Post'][0]"
   ]
  },
  {
   "cell_type": "code",
   "execution_count": 13,
   "metadata": {},
   "outputs": [],
   "source": [
    "# Function to convert a raw post to a string of words\n",
    "def raw_to_words(raw):\n",
    "    \n",
    "    #remove URL\n",
    "    link = re.sub(r'http\\S+', '', raw)\n",
    "    \n",
    "    # Remove HTML\n",
    "    text = BeautifulSoup(link).get_text()\n",
    "    \n",
    "    # Remove non-letters        \n",
    "    letters_only = re.sub(\"[^a-zA-Z]\", \" \", text)\n",
    "    \n",
    "    # Convert to lower case, split into individual words\n",
    "    words = letters_only.lower().split()\n",
    "    \n",
    "    # convert the stop words to a set\n",
    "    stops = set(stopwords.words('english'))\n",
    "    \n",
    "    # Remove stop words\n",
    "    meaningful_words = [w for w in words if not w in stops]\n",
    "    \n",
    "    # Join the words back into one string separated by space and return the result.\n",
    "    return (\" \".join(meaningful_words))"
   ]
  },
  {
   "cell_type": "code",
   "execution_count": 14,
   "metadata": {},
   "outputs": [
    {
     "data": {
      "text/plain": [
       "'please promote ico many forum links articles pertaining existing coins digital currency news plenty appropriate places promote upcoming projects also removed twitter links comments instead links articles articles pumping coin pump dump groups foreign language articles english please'"
      ]
     },
     "execution_count": 14,
     "metadata": {},
     "output_type": "execute_result"
    }
   ],
   "source": [
    "#check first post to see if it worked\n",
    "raw_to_words(df['post'][0])"
   ]
  },
  {
   "cell_type": "code",
   "execution_count": 15,
   "metadata": {},
   "outputs": [],
   "source": [
    "#apply data cleaning function to columns\n",
    "df['title'] = df['title'].map(raw_to_words)"
   ]
  },
  {
   "cell_type": "code",
   "execution_count": 16,
   "metadata": {},
   "outputs": [
    {
     "data": {
      "text/plain": [
       "0    0.535414\n",
       "1    0.464586\n",
       "Name: subreddit, dtype: float64"
      ]
     },
     "execution_count": 16,
     "metadata": {},
     "output_type": "execute_result"
    }
   ],
   "source": [
    "# look at baseline accuracy, majority looks like it is talesfromtechsupport with 52.3%\n",
    "# we would want something at least greater than this.\n",
    "df['subreddit'].value_counts(normalize=True)"
   ]
  },
  {
   "cell_type": "markdown",
   "metadata": {},
   "source": [
    "## Build Models"
   ]
  },
  {
   "cell_type": "markdown",
   "metadata": {},
   "source": [
    "### Title Column\n",
    "\n",
    "I am going to start with the title column and see how just the title does in predicting subreddit talesfromtechsupport"
   ]
  },
  {
   "cell_type": "markdown",
   "metadata": {},
   "source": [
    "#### Count Vectorizer"
   ]
  },
  {
   "cell_type": "code",
   "execution_count": 17,
   "metadata": {},
   "outputs": [],
   "source": [
    "#set X and y to run train test split for title\n",
    "X_title = df.title\n",
    "y = df.subreddit"
   ]
  },
  {
   "cell_type": "code",
   "execution_count": 18,
   "metadata": {},
   "outputs": [],
   "source": [
    "X_train, X_test, y_train, y_test = train_test_split(X_title , y , test_size = .33, random_state = 42)"
   ]
  },
  {
   "cell_type": "code",
   "execution_count": 19,
   "metadata": {},
   "outputs": [],
   "source": [
    "#n-gram = 1\n",
    "cvec = CountVectorizer(stop_words='english', max_features = 5000, ngram_range=(1,1)).fit(X_train)\n",
    "df_train = pd.DataFrame(cvec.transform(X_train).todense(), columns=cvec.get_feature_names())\n",
    "df_test = pd.DataFrame(cvec.transform(X_test).todense(), columns=cvec.get_feature_names())"
   ]
  },
  {
   "cell_type": "code",
   "execution_count": 20,
   "metadata": {},
   "outputs": [],
   "source": [
    "#n-gram = 2\n",
    "cvec = CountVectorizer(stop_words='english', max_features = 5000, ngram_range=(1,2)).fit(X_train)\n",
    "df_train_2 = pd.DataFrame(cvec.transform(X_train).todense(), columns=cvec.get_feature_names())\n",
    "df_test_2 = pd.DataFrame(cvec.transform(X_test).todense(), columns=cvec.get_feature_names())"
   ]
  },
  {
   "cell_type": "markdown",
   "metadata": {},
   "source": [
    "#### TfidVectorizer"
   ]
  },
  {
   "cell_type": "code",
   "execution_count": 21,
   "metadata": {},
   "outputs": [],
   "source": [
    "#n-gram = 1\n",
    "tvec = TfidfVectorizer(stop_words='english', ngram_range=(1,1)).fit(X_train)\n",
    "train_title = pd.DataFrame(tvec.transform(X_train).todense(), columns = tvec.get_feature_names())\n",
    "test_title = pd.DataFrame(tvec.transform(X_test).todense(), columns = tvec.get_feature_names())"
   ]
  },
  {
   "cell_type": "code",
   "execution_count": 22,
   "metadata": {},
   "outputs": [],
   "source": [
    "#n-gram = 2\n",
    "tvec = TfidfVectorizer(stop_words='english', ngram_range=(1,2)).fit(X_train)\n",
    "train_title_2 = pd.DataFrame(tvec.transform(X_train).todense(), columns = tvec.get_feature_names())\n",
    "test_title_2 = pd.DataFrame(tvec.transform(X_test).todense(), columns = tvec.get_feature_names())"
   ]
  },
  {
   "cell_type": "markdown",
   "metadata": {},
   "source": [
    "#### Create a dataframe to store my accuracy scores along the way"
   ]
  },
  {
   "cell_type": "code",
   "execution_count": 23,
   "metadata": {},
   "outputs": [],
   "source": [
    "#set columns and index for the df\n",
    "columns = ['cvec_score_1', 'cvec_score_2', 'tvec_score_1', 'tvec_score_2']\n",
    "index = ['lr_title', 'knn_title', 'randomforest_title', 'multinomial_title']\n",
    "score_df = pd.DataFrame(index=index,columns=columns)"
   ]
  },
  {
   "cell_type": "code",
   "execution_count": 24,
   "metadata": {},
   "outputs": [],
   "source": [
    "# score_df"
   ]
  },
  {
   "cell_type": "markdown",
   "metadata": {},
   "source": [
    "#### Logistic Regression\n"
   ]
  },
  {
   "cell_type": "code",
   "execution_count": 64,
   "metadata": {},
   "outputs": [
    {
     "name": "stdout",
     "output_type": "stream",
     "text": [
      "accuracy score 0.7909090909090909\n",
      "train score 0.9731182795698925\n"
     ]
    }
   ],
   "source": [
    "#n-gram = 1, CVEC\n",
    "lr = LogisticRegression()\n",
    "lr.fit(df_train, y_train)\n",
    "\n",
    "y_pred = lr.predict(df_test)\n",
    "score_df['cvec_score_1']['lr_title'] = accuracy_score(y_test, y_pred)\n",
    "print('accuracy score', accuracy_score(y_test, y_pred))\n",
    "print('train score', lr.score(df_train, y_train))"
   ]
  },
  {
   "cell_type": "code",
   "execution_count": 26,
   "metadata": {},
   "outputs": [
    {
     "name": "stdout",
     "output_type": "stream",
     "text": [
      "accuracy score 0.7890909090909091\n",
      "train score 0.9802867383512545\n"
     ]
    }
   ],
   "source": [
    "#n-gram = 2, CVEC\n",
    "lr = LogisticRegression()\n",
    "lr.fit(df_train_2, y_train)\n",
    "\n",
    "y_pred = lr.predict(df_test_2)\n",
    "score_df['cvec_score_2']['lr_title'] = accuracy_score(y_test, y_pred)\n",
    "print('accuracy score', accuracy_score(y_test, y_pred))\n",
    "print('train score', lr.score(df_train_2, y_train))"
   ]
  },
  {
   "cell_type": "code",
   "execution_count": 27,
   "metadata": {},
   "outputs": [
    {
     "name": "stdout",
     "output_type": "stream",
     "text": [
      "accuracy score 0.7872727272727272\n",
      "train score 0.9336917562724014\n"
     ]
    }
   ],
   "source": [
    "#n-gram = 1, TVEC\n",
    "lr = LogisticRegression()\n",
    "lr.fit(train_title, y_train)\n",
    "\n",
    "y_pred = lr.predict(test_title)\n",
    "score_df['tvec_score_1']['lr_title'] = accuracy_score(y_test, y_pred)\n",
    "print('accuracy score', accuracy_score(y_test, y_pred))\n",
    "print('train score', lr.score(train_title, y_train))"
   ]
  },
  {
   "cell_type": "code",
   "execution_count": 28,
   "metadata": {},
   "outputs": [
    {
     "name": "stdout",
     "output_type": "stream",
     "text": [
      "accuracy score 0.78\n",
      "train score 0.9623655913978495\n"
     ]
    }
   ],
   "source": [
    "#n-gram = 2, TVEC\n",
    "lr = LogisticRegression()\n",
    "lr.fit(train_title_2, y_train)\n",
    "\n",
    "y_pred = lr.predict(test_title_2)\n",
    "score_df['tvec_score_2']['lr_title'] = accuracy_score(y_test, y_pred)\n",
    "print('accuracy score', accuracy_score(y_test, y_pred))\n",
    "print('train score', lr.score(train_title_2, y_train))"
   ]
  },
  {
   "cell_type": "markdown",
   "metadata": {},
   "source": [
    "#### KNN\n"
   ]
  },
  {
   "cell_type": "code",
   "execution_count": 29,
   "metadata": {
    "focus": false,
    "id": "588f9845-6143-4bcc-bfd1-85d45b79303d"
   },
   "outputs": [
    {
     "name": "stdout",
     "output_type": "stream",
     "text": [
      "accuracy score 0.5036363636363637\n",
      "train score 0.9946236559139785\n"
     ]
    }
   ],
   "source": [
    "#n-gram = 1, CVEC\n",
    "params = {\n",
    "    'n_neighbors': (1, 3, 5),\n",
    "    'metric': ['minkowski', 'euclidean'],\n",
    "    'weights': ['uniform', 'distance']    \n",
    "}\n",
    "gs = GridSearchCV(KNeighborsClassifier(), params)\n",
    "gs.fit(df_train, y_train)\n",
    "\n",
    "y_pred = gs.predict(df_test)\n",
    "print('accuracy score', accuracy_score(y_test, y_pred))\n",
    "print('train score', gs.score(df_train, y_train))"
   ]
  },
  {
   "cell_type": "code",
   "execution_count": 30,
   "metadata": {},
   "outputs": [],
   "source": [
    "score_df['cvec_score_1']['knn_title'] = 0.5848056537102474"
   ]
  },
  {
   "cell_type": "code",
   "execution_count": 31,
   "metadata": {},
   "outputs": [
    {
     "name": "stdout",
     "output_type": "stream",
     "text": [
      "accuracy score 0.5036363636363637\n",
      "train score 0.9919354838709677\n"
     ]
    }
   ],
   "source": [
    "#n-gram = 2, CVEC\n",
    "params = {\n",
    "    'n_neighbors': (1, 3, 5),\n",
    "    'metric': ['minkowski', 'euclidean'],\n",
    "    'weights': ['uniform', 'distance']    \n",
    "}\n",
    "gs = GridSearchCV(KNeighborsClassifier(), params)\n",
    "gs.fit(df_train_2, y_train)\n",
    "\n",
    "y_pred = gs.predict(df_test_2)\n",
    "print('accuracy score', accuracy_score(y_test, y_pred))\n",
    "print('train score', gs.score(df_train_2, y_train))"
   ]
  },
  {
   "cell_type": "code",
   "execution_count": 32,
   "metadata": {},
   "outputs": [],
   "source": [
    "score_df['cvec_score_2']['knn_title'] = 0.5742049469964664"
   ]
  },
  {
   "cell_type": "code",
   "execution_count": 33,
   "metadata": {},
   "outputs": [
    {
     "name": "stdout",
     "output_type": "stream",
     "text": [
      "accuracy score 0.68\n",
      "train score 0.7921146953405018\n"
     ]
    }
   ],
   "source": [
    "#n-gram = 1, TVEC\n",
    "params = {\n",
    "    'n_neighbors': (1, 3, 5),\n",
    "    'metric': ['minkowski', 'euclidean'],\n",
    "    'weights': ['uniform', 'distance']    \n",
    "}\n",
    "gs = GridSearchCV(KNeighborsClassifier(), params)\n",
    "gs.fit(train_title, y_train)\n",
    "\n",
    "y_pred = gs.predict(test_title)\n",
    "print('accuracy score', accuracy_score(y_test, y_pred))\n",
    "print('train score', gs.score(train_title, y_train))"
   ]
  },
  {
   "cell_type": "code",
   "execution_count": 34,
   "metadata": {},
   "outputs": [],
   "source": [
    "score_df['tvec_score_1']['knn_title'] = 0.598939929328622"
   ]
  },
  {
   "cell_type": "code",
   "execution_count": 35,
   "metadata": {},
   "outputs": [
    {
     "name": "stdout",
     "output_type": "stream",
     "text": [
      "accuracy score 0.7454545454545455\n",
      "train score 0.8225806451612904\n"
     ]
    }
   ],
   "source": [
    "#n-gram = 2, TVEC\n",
    "knn = KNeighborsClassifier(n_neighbors=5)\n",
    "knn.fit(train_title_2, y_train)\n",
    "\n",
    "y_pred = knn.predict(test_title_2)\n",
    "score_df['tvec_score_2']['knn_title'] = accuracy_score(y_test, y_pred)\n",
    "print('accuracy score', accuracy_score(y_test, y_pred))\n",
    "print('train score', knn.score(train_title_2, y_train))"
   ]
  },
  {
   "cell_type": "markdown",
   "metadata": {},
   "source": [
    "#### Random Forest\n"
   ]
  },
  {
   "cell_type": "code",
   "execution_count": 56,
   "metadata": {},
   "outputs": [
    {
     "name": "stdout",
     "output_type": "stream",
     "text": [
      "0.78584229390681\n",
      "0.76\n"
     ]
    },
    {
     "data": {
      "text/plain": [
       "{'class_weight': 'balanced', 'max_depth': 6, 'n_estimators': 45}"
      ]
     },
     "execution_count": 56,
     "metadata": {},
     "output_type": "execute_result"
    }
   ],
   "source": [
    "#n-gram = 1, CVEC\n",
    "rf_param={\n",
    "    'class_weight': ['balanced'],\n",
    "    'n_estimators': (45, 50, 55),\n",
    "    'max_depth': [5, 6]\n",
    "}\n",
    "rf = GridSearchCV(RandomForestClassifier(random_state=42), param_grid=rf_param)\n",
    "rf.fit(df_train, y_train)\n",
    "\n",
    "score_df['cvec_score_1']['randomforest_title'] = rf.score(df_test, y_test)\n",
    "print(rf.score(df_train, y_train))\n",
    "print(rf.score(df_test, y_test))\n",
    "rf.best_params_"
   ]
  },
  {
   "cell_type": "code",
   "execution_count": 57,
   "metadata": {},
   "outputs": [
    {
     "name": "stdout",
     "output_type": "stream",
     "text": [
      "0.8055555555555556\n",
      "0.7763636363636364\n"
     ]
    }
   ],
   "source": [
    "#n-gram = 2, CVEC\n",
    "rf_param={\n",
    "    'class_weight': ['balanced'],\n",
    "    'n_estimators': (45, 50, 55),\n",
    "    'max_depth': [5, 6]\n",
    "}\n",
    "rf = GridSearchCV(RandomForestClassifier(random_state=42), param_grid=rf_param)\n",
    "rf.fit(df_train_2, y_train)\n",
    "\n",
    "score_df['cvec_score_2']['randomforest_title'] = rf.score(df_test_2, y_test)\n",
    "print(rf.score(df_train_2, y_train))\n",
    "print(rf.score(df_test_2, y_test))"
   ]
  },
  {
   "cell_type": "code",
   "execution_count": 59,
   "metadata": {},
   "outputs": [
    {
     "name": "stdout",
     "output_type": "stream",
     "text": [
      "0.8055555555555556\n",
      "0.7836363636363637\n"
     ]
    }
   ],
   "source": [
    "#n-gram = 1, TVEC\n",
    "rf_param={\n",
    "    'class_weight': ['balanced'],\n",
    "    'n_estimators': (45, 50, 55),\n",
    "    'max_depth': [5, 6]\n",
    "}\n",
    "rf = GridSearchCV(RandomForestClassifier(random_state=42), param_grid=rf_param)\n",
    "rf.fit(train_title, y_train)\n",
    "\n",
    "score_df['tvec_score_1']['randomforest_title'] = rf.score(test_title, y_test)\n",
    "print(rf.score(train_title, y_train))\n",
    "print(rf.score(test_title, y_test))"
   ]
  },
  {
   "cell_type": "code",
   "execution_count": 60,
   "metadata": {},
   "outputs": [
    {
     "name": "stdout",
     "output_type": "stream",
     "text": [
      "0.7894265232974911\n",
      "0.7418181818181818\n"
     ]
    }
   ],
   "source": [
    "#n-gram = 2, TVEC\n",
    "rf_param={\n",
    "    'class_weight': ['balanced'],\n",
    "    'n_estimators': (45, 50, 55),\n",
    "    'max_depth': [5, 6]\n",
    "}\n",
    "rf = GridSearchCV(RandomForestClassifier(random_state=42), param_grid=rf_param)\n",
    "rf.fit(train_title_2, y_train)\n",
    "\n",
    "score_df['tvec_score_2']['randomforest_title'] = rf.score(test_title_2, y_test)\n",
    "print(rf.score(train_title_2, y_train))\n",
    "print(rf.score(test_title_2, y_test))"
   ]
  },
  {
   "cell_type": "markdown",
   "metadata": {},
   "source": [
    "#### MultinomialNB\n"
   ]
  },
  {
   "cell_type": "code",
   "execution_count": 40,
   "metadata": {},
   "outputs": [
    {
     "name": "stdout",
     "output_type": "stream",
     "text": [
      "accuracy score 0.7654545454545455\n",
      "train score 0.9489247311827957\n"
     ]
    }
   ],
   "source": [
    "#n-gram = 1, CVEC\n",
    "mnb = MultinomialNB()\n",
    "mnb.fit(df_train, y_train)\n",
    "\n",
    "y_pred = mnb.predict(df_test)\n",
    "score_df['cvec_score_1']['multinomial_title'] = accuracy_score(y_test, y_pred)\n",
    "print('accuracy score', accuracy_score(y_test, y_pred))\n",
    "print('train score', mnb.score(df_train, y_train))"
   ]
  },
  {
   "cell_type": "code",
   "execution_count": 41,
   "metadata": {},
   "outputs": [
    {
     "name": "stdout",
     "output_type": "stream",
     "text": [
      "accuracy score 0.7472727272727273\n",
      "train score 0.9632616487455197\n"
     ]
    }
   ],
   "source": [
    "#n-gram = 2, CVEC\n",
    "mnb = MultinomialNB()\n",
    "mnb.fit(df_train_2, y_train)\n",
    "\n",
    "y_pred = mnb.predict(df_test_2)\n",
    "score_df['cvec_score_2']['multinomial_title'] = accuracy_score(y_test, y_pred)\n",
    "print('accuracy score', accuracy_score(y_test, y_pred))\n",
    "print('train score', mnb.score(df_train_2, y_train))"
   ]
  },
  {
   "cell_type": "code",
   "execution_count": 42,
   "metadata": {},
   "outputs": [
    {
     "name": "stdout",
     "output_type": "stream",
     "text": [
      "accuracy score 0.74\n",
      "train score 0.9578853046594982\n"
     ]
    }
   ],
   "source": [
    "#n-gram = 1, TVEC\n",
    "mnb = MultinomialNB()\n",
    "mnb.fit(train_title, y_train)\n",
    "\n",
    "y_pred = mnb.predict(test_title)\n",
    "score_df['tvec_score_1']['multinomial_title'] = accuracy_score(y_test, y_pred)\n",
    "print('accuracy score', accuracy_score(y_test, y_pred))\n",
    "print('train score', mnb.score(train_title, y_train))"
   ]
  },
  {
   "cell_type": "code",
   "execution_count": 43,
   "metadata": {},
   "outputs": [
    {
     "name": "stdout",
     "output_type": "stream",
     "text": [
      "accuracy score 0.7345454545454545\n",
      "train score 0.9829749103942652\n"
     ]
    }
   ],
   "source": [
    "#n-gram = 2, TVEC\n",
    "mnb = MultinomialNB()\n",
    "mnb.fit(train_title_2, y_train)\n",
    "\n",
    "y_pred = mnb.predict(test_title_2)\n",
    "score_df['tvec_score_2']['multinomial_title'] = accuracy_score(y_test, y_pred)\n",
    "print('accuracy score', accuracy_score(y_test, y_pred))\n",
    "print('train score', mnb.score(train_title_2, y_train))"
   ]
  },
  {
   "cell_type": "markdown",
   "metadata": {},
   "source": [
    "## Analyze"
   ]
  },
  {
   "cell_type": "markdown",
   "metadata": {},
   "source": [
    "### Score Table\n",
    "Lets look at them all together"
   ]
  },
  {
   "cell_type": "code",
   "execution_count": 61,
   "metadata": {},
   "outputs": [
    {
     "data": {
      "text/html": [
       "<div>\n",
       "<style scoped>\n",
       "    .dataframe tbody tr th:only-of-type {\n",
       "        vertical-align: middle;\n",
       "    }\n",
       "\n",
       "    .dataframe tbody tr th {\n",
       "        vertical-align: top;\n",
       "    }\n",
       "\n",
       "    .dataframe thead th {\n",
       "        text-align: right;\n",
       "    }\n",
       "</style>\n",
       "<table border=\"1\" class=\"dataframe\">\n",
       "  <thead>\n",
       "    <tr style=\"text-align: right;\">\n",
       "      <th></th>\n",
       "      <th>cvec_score_1</th>\n",
       "      <th>cvec_score_2</th>\n",
       "      <th>tvec_score_1</th>\n",
       "      <th>tvec_score_2</th>\n",
       "    </tr>\n",
       "  </thead>\n",
       "  <tbody>\n",
       "    <tr>\n",
       "      <th>lr_title</th>\n",
       "      <td>0.790909</td>\n",
       "      <td>0.789091</td>\n",
       "      <td>0.787273</td>\n",
       "      <td>0.78</td>\n",
       "    </tr>\n",
       "    <tr>\n",
       "      <th>knn_title</th>\n",
       "      <td>0.584806</td>\n",
       "      <td>0.574205</td>\n",
       "      <td>0.59894</td>\n",
       "      <td>0.745455</td>\n",
       "    </tr>\n",
       "    <tr>\n",
       "      <th>randomforest_title</th>\n",
       "      <td>0.76</td>\n",
       "      <td>0.776364</td>\n",
       "      <td>0.783636</td>\n",
       "      <td>0.741818</td>\n",
       "    </tr>\n",
       "    <tr>\n",
       "      <th>multinomial_title</th>\n",
       "      <td>0.765455</td>\n",
       "      <td>0.747273</td>\n",
       "      <td>0.74</td>\n",
       "      <td>0.734545</td>\n",
       "    </tr>\n",
       "  </tbody>\n",
       "</table>\n",
       "</div>"
      ],
      "text/plain": [
       "                   cvec_score_1 cvec_score_2 tvec_score_1 tvec_score_2\n",
       "lr_title               0.790909     0.789091     0.787273         0.78\n",
       "knn_title              0.584806     0.574205      0.59894     0.745455\n",
       "randomforest_title         0.76     0.776364     0.783636     0.741818\n",
       "multinomial_title      0.765455     0.747273         0.74     0.734545"
      ]
     },
     "execution_count": 61,
     "metadata": {},
     "output_type": "execute_result"
    }
   ],
   "source": [
    "score_df"
   ]
  },
  {
   "cell_type": "code",
   "execution_count": 62,
   "metadata": {},
   "outputs": [
    {
     "data": {
      "text/html": [
       "<div>\n",
       "<style scoped>\n",
       "    .dataframe tbody tr th:only-of-type {\n",
       "        vertical-align: middle;\n",
       "    }\n",
       "\n",
       "    .dataframe tbody tr th {\n",
       "        vertical-align: top;\n",
       "    }\n",
       "\n",
       "    .dataframe thead th {\n",
       "        text-align: right;\n",
       "    }\n",
       "</style>\n",
       "<table border=\"1\" class=\"dataframe\">\n",
       "  <thead>\n",
       "    <tr style=\"text-align: right;\">\n",
       "      <th></th>\n",
       "      <th>cvec_score_1</th>\n",
       "      <th>tvec_score_1</th>\n",
       "    </tr>\n",
       "  </thead>\n",
       "  <tbody>\n",
       "    <tr>\n",
       "      <th>lr_title</th>\n",
       "      <td>0.790909</td>\n",
       "      <td>0.787273</td>\n",
       "    </tr>\n",
       "    <tr>\n",
       "      <th>knn_title</th>\n",
       "      <td>0.584806</td>\n",
       "      <td>0.59894</td>\n",
       "    </tr>\n",
       "    <tr>\n",
       "      <th>randomforest_title</th>\n",
       "      <td>0.76</td>\n",
       "      <td>0.783636</td>\n",
       "    </tr>\n",
       "    <tr>\n",
       "      <th>multinomial_title</th>\n",
       "      <td>0.765455</td>\n",
       "      <td>0.74</td>\n",
       "    </tr>\n",
       "  </tbody>\n",
       "</table>\n",
       "</div>"
      ],
      "text/plain": [
       "                   cvec_score_1 tvec_score_1\n",
       "lr_title               0.790909     0.787273\n",
       "knn_title              0.584806      0.59894\n",
       "randomforest_title         0.76     0.783636\n",
       "multinomial_title      0.765455         0.74"
      ]
     },
     "execution_count": 62,
     "metadata": {},
     "output_type": "execute_result"
    }
   ],
   "source": [
    "#going to take a look only at n-gram= 1\n",
    "drop = ['cvec_score_2', 'tvec_score_2']\n",
    "score_df.drop(score_df[drop], axis=1)"
   ]
  },
  {
   "cell_type": "markdown",
   "metadata": {},
   "source": [
    "### Random Forest Features"
   ]
  },
  {
   "cell_type": "code",
   "execution_count": 92,
   "metadata": {},
   "outputs": [],
   "source": [
    "rf = RandomForestClassifier(class_weight='balanced', max_depth=6, n_estimators=55, random_state=42)\n",
    "rf.fit(train_title, y_train)\n",
    "y_pred = rf.predict(test_title)"
   ]
  },
  {
   "cell_type": "code",
   "execution_count": 93,
   "metadata": {},
   "outputs": [],
   "source": [
    "# a dict to hold feature_name: feature_importance\n",
    "feats = {} \n",
    "for feature, importance in zip(train_title.columns, rf.feature_importances_):\n",
    "    feats[feature] = importance \n",
    "\n",
    "importances = pd.DataFrame.from_dict(feats, orient='index').rename(columns={0: 'Gini-importance'})\n",
    "importances = importances.sort_values('Gini-importance', ascending=False)"
   ]
  },
  {
   "cell_type": "code",
   "execution_count": 94,
   "metadata": {},
   "outputs": [
    {
     "data": {
      "text/plain": [
       "Gini-importance    float64\n",
       "dtype: object"
      ]
     },
     "execution_count": 94,
     "metadata": {},
     "output_type": "execute_result"
    }
   ],
   "source": [
    "#check type\n",
    "importances.dtypes"
   ]
  },
  {
   "cell_type": "code",
   "execution_count": 95,
   "metadata": {
    "scrolled": false
   },
   "outputs": [
    {
     "data": {
      "text/html": [
       "<div>\n",
       "<style scoped>\n",
       "    .dataframe tbody tr th:only-of-type {\n",
       "        vertical-align: middle;\n",
       "    }\n",
       "\n",
       "    .dataframe tbody tr th {\n",
       "        vertical-align: top;\n",
       "    }\n",
       "\n",
       "    .dataframe thead th {\n",
       "        text-align: right;\n",
       "    }\n",
       "</style>\n",
       "<table border=\"1\" class=\"dataframe\">\n",
       "  <thead>\n",
       "    <tr style=\"text-align: right;\">\n",
       "      <th></th>\n",
       "      <th>Gini-importance</th>\n",
       "    </tr>\n",
       "  </thead>\n",
       "  <tbody>\n",
       "    <tr>\n",
       "      <th>bitcoin</th>\n",
       "      <td>0.081680</td>\n",
       "    </tr>\n",
       "    <tr>\n",
       "      <th>crypto</th>\n",
       "      <td>0.068062</td>\n",
       "    </tr>\n",
       "    <tr>\n",
       "      <th>cryptocurrency</th>\n",
       "      <td>0.034689</td>\n",
       "    </tr>\n",
       "    <tr>\n",
       "      <th>lightning</th>\n",
       "      <td>0.028362</td>\n",
       "    </tr>\n",
       "    <tr>\n",
       "      <th>ethereum</th>\n",
       "      <td>0.026289</td>\n",
       "    </tr>\n",
       "    <tr>\n",
       "      <th>neo</th>\n",
       "      <td>0.024939</td>\n",
       "    </tr>\n",
       "    <tr>\n",
       "      <th>buy</th>\n",
       "      <td>0.020907</td>\n",
       "    </tr>\n",
       "    <tr>\n",
       "      <th>launch</th>\n",
       "      <td>0.016220</td>\n",
       "    </tr>\n",
       "    <tr>\n",
       "      <th>blockchain</th>\n",
       "      <td>0.015630</td>\n",
       "    </tr>\n",
       "    <tr>\n",
       "      <th>beginners</th>\n",
       "      <td>0.015124</td>\n",
       "    </tr>\n",
       "    <tr>\n",
       "      <th>btc</th>\n",
       "      <td>0.014819</td>\n",
       "    </tr>\n",
       "    <tr>\n",
       "      <th>question</th>\n",
       "      <td>0.014560</td>\n",
       "    </tr>\n",
       "    <tr>\n",
       "      <th>launches</th>\n",
       "      <td>0.012001</td>\n",
       "    </tr>\n",
       "    <tr>\n",
       "      <th>atm</th>\n",
       "      <td>0.011947</td>\n",
       "    </tr>\n",
       "    <tr>\n",
       "      <th>trading</th>\n",
       "      <td>0.011506</td>\n",
       "    </tr>\n",
       "  </tbody>\n",
       "</table>\n",
       "</div>"
      ],
      "text/plain": [
       "                Gini-importance\n",
       "bitcoin                0.081680\n",
       "crypto                 0.068062\n",
       "cryptocurrency         0.034689\n",
       "lightning              0.028362\n",
       "ethereum               0.026289\n",
       "neo                    0.024939\n",
       "buy                    0.020907\n",
       "launch                 0.016220\n",
       "blockchain             0.015630\n",
       "beginners              0.015124\n",
       "btc                    0.014819\n",
       "question               0.014560\n",
       "launches               0.012001\n",
       "atm                    0.011947\n",
       "trading                0.011506"
      ]
     },
     "execution_count": 95,
     "metadata": {},
     "output_type": "execute_result"
    }
   ],
   "source": [
    "#check our coef df\n",
    "importances.head(15)"
   ]
  },
  {
   "cell_type": "code",
   "execution_count": 100,
   "metadata": {
    "scrolled": false
   },
   "outputs": [
    {
     "data": {
      "image/png": "[encoded data removed]",
      "text/plain": [
       "<Figure size 576x576 with 1 Axes>"
      ]
     },
     "metadata": {},
     "output_type": "display_data"
    }
   ],
   "source": [
    "#bar graph of top words\n",
    "top_20 = importances[:20]\n",
    "fig = plt.figure(figsize=(8,8))\n",
    "sns.barplot(top_20['Gini-importance'], top_20.index);"
   ]
  },
  {
   "cell_type": "code",
   "execution_count": 102,
   "metadata": {},
   "outputs": [
    {
     "data": {
      "text/html": [
       "<div>\n",
       "<style scoped>\n",
       "    .dataframe tbody tr th:only-of-type {\n",
       "        vertical-align: middle;\n",
       "    }\n",
       "\n",
       "    .dataframe tbody tr th {\n",
       "        vertical-align: top;\n",
       "    }\n",
       "\n",
       "    .dataframe thead th {\n",
       "        text-align: right;\n",
       "    }\n",
       "</style>\n",
       "<table border=\"1\" class=\"dataframe\">\n",
       "  <thead>\n",
       "    <tr style=\"text-align: right;\">\n",
       "      <th></th>\n",
       "      <th>Gini-importance</th>\n",
       "    </tr>\n",
       "  </thead>\n",
       "  <tbody>\n",
       "    <tr>\n",
       "      <th>forth</th>\n",
       "      <td>0.0</td>\n",
       "    </tr>\n",
       "    <tr>\n",
       "      <th>forms</th>\n",
       "      <td>0.0</td>\n",
       "    </tr>\n",
       "    <tr>\n",
       "      <th>fixing</th>\n",
       "      <td>0.0</td>\n",
       "    </tr>\n",
       "    <tr>\n",
       "      <th>flag</th>\n",
       "      <td>0.0</td>\n",
       "    </tr>\n",
       "    <tr>\n",
       "      <th>flight</th>\n",
       "      <td>0.0</td>\n",
       "    </tr>\n",
       "    <tr>\n",
       "      <th>flooded</th>\n",
       "      <td>0.0</td>\n",
       "    </tr>\n",
       "    <tr>\n",
       "      <th>fluctuations</th>\n",
       "      <td>0.0</td>\n",
       "    </tr>\n",
       "    <tr>\n",
       "      <th>fma</th>\n",
       "      <td>0.0</td>\n",
       "    </tr>\n",
       "    <tr>\n",
       "      <th>focus</th>\n",
       "      <td>0.0</td>\n",
       "    </tr>\n",
       "    <tr>\n",
       "      <th>focused</th>\n",
       "      <td>0.0</td>\n",
       "    </tr>\n",
       "    <tr>\n",
       "      <th>folks</th>\n",
       "      <td>0.0</td>\n",
       "    </tr>\n",
       "    <tr>\n",
       "      <th>follow</th>\n",
       "      <td>0.0</td>\n",
       "    </tr>\n",
       "    <tr>\n",
       "      <th>following</th>\n",
       "      <td>0.0</td>\n",
       "    </tr>\n",
       "    <tr>\n",
       "      <th>follows</th>\n",
       "      <td>0.0</td>\n",
       "    </tr>\n",
       "    <tr>\n",
       "      <th>fomo</th>\n",
       "      <td>0.0</td>\n",
       "    </tr>\n",
       "    <tr>\n",
       "      <th>food</th>\n",
       "      <td>0.0</td>\n",
       "    </tr>\n",
       "    <tr>\n",
       "      <th>fools</th>\n",
       "      <td>0.0</td>\n",
       "    </tr>\n",
       "    <tr>\n",
       "      <th>football</th>\n",
       "      <td>0.0</td>\n",
       "    </tr>\n",
       "    <tr>\n",
       "      <th>foreigners</th>\n",
       "      <td>0.0</td>\n",
       "    </tr>\n",
       "    <tr>\n",
       "      <th>zombies</th>\n",
       "      <td>0.0</td>\n",
       "    </tr>\n",
       "  </tbody>\n",
       "</table>\n",
       "</div>"
      ],
      "text/plain": [
       "              Gini-importance\n",
       "forth                     0.0\n",
       "forms                     0.0\n",
       "fixing                    0.0\n",
       "flag                      0.0\n",
       "flight                    0.0\n",
       "flooded                   0.0\n",
       "fluctuations              0.0\n",
       "fma                       0.0\n",
       "focus                     0.0\n",
       "focused                   0.0\n",
       "folks                     0.0\n",
       "follow                    0.0\n",
       "following                 0.0\n",
       "follows                   0.0\n",
       "fomo                      0.0\n",
       "food                      0.0\n",
       "fools                     0.0\n",
       "football                  0.0\n",
       "foreigners                0.0\n",
       "zombies                   0.0"
      ]
     },
     "execution_count": 102,
     "metadata": {},
     "output_type": "execute_result"
    }
   ],
   "source": [
    "bot_20 = importances[-20:]\n",
    "bot_20"
   ]
  },
  {
   "cell_type": "markdown",
   "metadata": {},
   "source": [
    "### Classification Metrics"
   ]
  },
  {
   "cell_type": "code",
   "execution_count": 52,
   "metadata": {},
   "outputs": [],
   "source": [
    "#build a confusion matrix\n",
    "cm = confusion_matrix(y_test, y_pred)"
   ]
  },
  {
   "cell_type": "code",
   "execution_count": 53,
   "metadata": {},
   "outputs": [
    {
     "data": {
      "text/html": [
       "<div>\n",
       "<style scoped>\n",
       "    .dataframe tbody tr th:only-of-type {\n",
       "        vertical-align: middle;\n",
       "    }\n",
       "\n",
       "    .dataframe tbody tr th {\n",
       "        vertical-align: top;\n",
       "    }\n",
       "\n",
       "    .dataframe thead th {\n",
       "        text-align: right;\n",
       "    }\n",
       "</style>\n",
       "<table border=\"1\" class=\"dataframe\">\n",
       "  <thead>\n",
       "    <tr style=\"text-align: right;\">\n",
       "      <th></th>\n",
       "      <th>predicted Crypto News</th>\n",
       "      <th>predicted Bitcoin</th>\n",
       "    </tr>\n",
       "  </thead>\n",
       "  <tbody>\n",
       "    <tr>\n",
       "      <th>actual Crypto News</th>\n",
       "      <td>234</td>\n",
       "      <td>62</td>\n",
       "    </tr>\n",
       "    <tr>\n",
       "      <th>actual Bitcoin</th>\n",
       "      <td>53</td>\n",
       "      <td>201</td>\n",
       "    </tr>\n",
       "  </tbody>\n",
       "</table>\n",
       "</div>"
      ],
      "text/plain": [
       "                    predicted Crypto News  predicted Bitcoin\n",
       "actual Crypto News                    234                 62\n",
       "actual Bitcoin                         53                201"
      ]
     },
     "execution_count": 53,
     "metadata": {},
     "output_type": "execute_result"
    }
   ],
   "source": [
    "#set it into a dataframe for asthetics \n",
    "cm_df = pd.DataFrame(cm, columns=['predicted Crypto News', 'predicted Bitcoin'], \n",
    "                     index=['actual Crypto News', 'actual Bitcoin'])\n",
    "cm_df"
   ]
  },
  {
   "cell_type": "code",
   "execution_count": 54,
   "metadata": {},
   "outputs": [],
   "source": [
    "# set classifications for each cell\n",
    "tn, fp, fn, tp = cm.ravel()"
   ]
  },
  {
   "cell_type": "code",
   "execution_count": 55,
   "metadata": {
    "scrolled": true
   },
   "outputs": [
    {
     "name": "stdout",
     "output_type": "stream",
     "text": [
      "Accuracy: 0.7909090909090909\n",
      "Misclassification: 0.2090909090909091\n",
      "Sensitivity: 0.7913385826771654\n",
      "Specificity: 0.7905405405405406\n"
     ]
    }
   ],
   "source": [
    "accuracy = (tp + tn) / (tn + fp + fn + tp)\n",
    "misclassification = 1 - accuracy\n",
    "sensitivity = tp / (tp + fn)\n",
    "specificity = tn / (tn + fp)\n",
    "\n",
    "print('Accuracy:', accuracy)\n",
    "print('Misclassification:', misclassification)\n",
    "print('Sensitivity:', sensitivity)\n",
    "print('Specificity:', specificity)"
   ]
  },
  {
   "cell_type": "code",
   "execution_count": null,
   "metadata": {},
   "outputs": [],
   "source": []
  }
 ],
 "metadata": {
  "anaconda-cloud": {},
  "kernelspec": {
   "display_name": "Python [conda env:dsi]",
   "language": "python",
   "name": "conda-env-dsi-py"
  },
  "language_info": {
   "codemirror_mode": {
    "name": "ipython",
    "version": 3
   },
   "file_extension": ".py",
   "mimetype": "text/x-python",
   "name": "python",
   "nbconvert_exporter": "python",
   "pygments_lexer": "ipython3",
   "version": "3.6.5"
  },
  "varInspector": {
   "cols": {
    "lenName": 16,
    "lenType": 16,
    "lenVar": 40
   },
   "kernels_config": {
    "python": {
     "delete_cmd_postfix": "",
     "delete_cmd_prefix": "del ",
     "library": "var_list.py",
     "varRefreshCmd": "print(var_dic_list())"
    },
    "r": {
     "delete_cmd_postfix": ") ",
     "delete_cmd_prefix": "rm(",
     "library": "var_list.r",
     "varRefreshCmd": "cat(var_dic_list()) "
    }
   },
   "types_to_exclude": [
    "module",
    "function",
    "builtin_function_or_method",
    "instance",
    "_Feature"
   ],
   "window_display": false
  }
 },
 "nbformat": 4,
 "nbformat_minor": 1
}
