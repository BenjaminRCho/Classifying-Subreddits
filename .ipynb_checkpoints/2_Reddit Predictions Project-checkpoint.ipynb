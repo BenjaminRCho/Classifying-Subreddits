{
 "cells": [
  {
   "cell_type": "markdown",
   "metadata": {
    "focus": false,
    "id": "69b9a648-bcc7-490d-9f9b-ea244d156bd6"
   },
   "source": [
    "# Classifying Subreddits"
   ]
  },
  {
   "cell_type": "markdown",
   "metadata": {},
   "source": [
    "### Import Libraries"
   ]
  },
  {
   "cell_type": "code",
   "execution_count": 1,
   "metadata": {},
   "outputs": [],
   "source": [
    "import pandas as pd\n",
    "import numpy as np\n",
    "import matplotlib.pyplot as plt\n",
    "import scipy.stats as stats\n",
    "import seaborn as sns\n",
    "import time\n",
    "\n",
    "from sklearn.model_selection import train_test_split, GridSearchCV, cross_val_score\n",
    "from sklearn.naive_bayes import MultinomialNB\n",
    "from sklearn.feature_extraction.text import CountVectorizer, HashingVectorizer, TfidfVectorizer\n",
    "from sklearn.linear_model import LogisticRegression\n",
    "from sklearn.neighbors import KNeighborsClassifier\n",
    "from sklearn.ensemble import RandomForestClassifier\n",
    "from sklearn.metrics import confusion_matrix, r2_score, accuracy_score, roc_auc_score, roc_curve, auc\n",
    "from sklearn.pipeline import Pipeline\n",
    "\n",
    "import regex as re\n",
    "import nltk\n",
    "from nltk.stem import WordNetLemmatizer\n",
    "from nltk.stem.porter import PorterStemmer\n",
    "from nltk.corpus import stopwords\n",
    "from nltk.tokenize import RegexpTokenizer\n",
    "from bs4 import BeautifulSoup \n",
    "\n",
    "%matplotlib inline"
   ]
  },
  {
   "cell_type": "code",
   "execution_count": 2,
   "metadata": {},
   "outputs": [],
   "source": [
    "import warnings\n",
    "warnings.filterwarnings('ignore')"
   ]
  },
  {
   "cell_type": "markdown",
   "metadata": {},
   "source": [
    "## Load Data"
   ]
  },
  {
   "cell_type": "code",
   "execution_count": 3,
   "metadata": {},
   "outputs": [],
   "source": [
    "df1 = pd.read_csv('./talesfromtechsupport.csv', index_col=0)\n",
    "df2 = pd.read_csv('./jokes.csv', index_col=0)"
   ]
  },
  {
   "cell_type": "code",
   "execution_count": 4,
   "metadata": {},
   "outputs": [
    {
     "data": {
      "text/html": [
       "<div>\n",
       "<style scoped>\n",
       "    .dataframe tbody tr th:only-of-type {\n",
       "        vertical-align: middle;\n",
       "    }\n",
       "\n",
       "    .dataframe tbody tr th {\n",
       "        vertical-align: top;\n",
       "    }\n",
       "\n",
       "    .dataframe thead th {\n",
       "        text-align: right;\n",
       "    }\n",
       "</style>\n",
       "<table border=\"1\" class=\"dataframe\">\n",
       "  <thead>\n",
       "    <tr style=\"text-align: right;\">\n",
       "      <th></th>\n",
       "      <th>title</th>\n",
       "      <th>post</th>\n",
       "      <th>nsfw</th>\n",
       "      <th>ups</th>\n",
       "      <th>num_com</th>\n",
       "      <th>author</th>\n",
       "      <th>subreddit</th>\n",
       "    </tr>\n",
       "  </thead>\n",
       "  <tbody>\n",
       "    <tr>\n",
       "      <th>0</th>\n",
       "      <td>TFTS POSTING RULES (MOBILE USERS PLEASE READ!)</td>\n",
       "      <td>Hey, we can have two stickies now!\\n\\n---\\n\\nS...</td>\n",
       "      <td>False</td>\n",
       "      <td>1953</td>\n",
       "      <td>77</td>\n",
       "      <td>MagicBigfoot</td>\n",
       "      <td>talesfromtechsupport</td>\n",
       "    </tr>\n",
       "    <tr>\n",
       "      <th>1</th>\n",
       "      <td>The time that providing after hours support ma...</td>\n",
       "      <td>I will do my best to anonymize this story as b...</td>\n",
       "      <td>False</td>\n",
       "      <td>1210</td>\n",
       "      <td>143</td>\n",
       "      <td>sambeaux45</td>\n",
       "      <td>talesfromtechsupport</td>\n",
       "    </tr>\n",
       "    <tr>\n",
       "      <th>2</th>\n",
       "      <td>That time I flew to Mongolia to turn the volum...</td>\n",
       "      <td>I'm an audiovisual consultant and automation (...</td>\n",
       "      <td>False</td>\n",
       "      <td>399</td>\n",
       "      <td>32</td>\n",
       "      <td>lincolnjkc</td>\n",
       "      <td>talesfromtechsupport</td>\n",
       "    </tr>\n",
       "    <tr>\n",
       "      <th>3</th>\n",
       "      <td>Dead Cell Phone short-ish</td>\n",
       "      <td>Haven't posted in a while, and this one really...</td>\n",
       "      <td>False</td>\n",
       "      <td>44</td>\n",
       "      <td>1</td>\n",
       "      <td>Boof_Dawg</td>\n",
       "      <td>talesfromtechsupport</td>\n",
       "    </tr>\n",
       "    <tr>\n",
       "      <th>4</th>\n",
       "      <td>Unhappy Camper... A true story...</td>\n",
       "      <td>Without giving names, I worked for a large com...</td>\n",
       "      <td>False</td>\n",
       "      <td>81</td>\n",
       "      <td>25</td>\n",
       "      <td>groovypho3nix</td>\n",
       "      <td>talesfromtechsupport</td>\n",
       "    </tr>\n",
       "  </tbody>\n",
       "</table>\n",
       "</div>"
      ],
      "text/plain": [
       "                                               title  \\\n",
       "0     TFTS POSTING RULES (MOBILE USERS PLEASE READ!)   \n",
       "1  The time that providing after hours support ma...   \n",
       "2  That time I flew to Mongolia to turn the volum...   \n",
       "3                          Dead Cell Phone short-ish   \n",
       "4                  Unhappy Camper... A true story...   \n",
       "\n",
       "                                                post   nsfw   ups  num_com  \\\n",
       "0  Hey, we can have two stickies now!\\n\\n---\\n\\nS...  False  1953       77   \n",
       "1  I will do my best to anonymize this story as b...  False  1210      143   \n",
       "2  I'm an audiovisual consultant and automation (...  False   399       32   \n",
       "3  Haven't posted in a while, and this one really...  False    44        1   \n",
       "4  Without giving names, I worked for a large com...  False    81       25   \n",
       "\n",
       "          author             subreddit  \n",
       "0   MagicBigfoot  talesfromtechsupport  \n",
       "1     sambeaux45  talesfromtechsupport  \n",
       "2     lincolnjkc  talesfromtechsupport  \n",
       "3      Boof_Dawg  talesfromtechsupport  \n",
       "4  groovypho3nix  talesfromtechsupport  "
      ]
     },
     "execution_count": 4,
     "metadata": {},
     "output_type": "execute_result"
    }
   ],
   "source": [
    "#check \n",
    "df1.head()"
   ]
  },
  {
   "cell_type": "code",
   "execution_count": 5,
   "metadata": {
    "scrolled": true
   },
   "outputs": [
    {
     "data": {
      "text/html": [
       "<div>\n",
       "<style scoped>\n",
       "    .dataframe tbody tr th:only-of-type {\n",
       "        vertical-align: middle;\n",
       "    }\n",
       "\n",
       "    .dataframe tbody tr th {\n",
       "        vertical-align: top;\n",
       "    }\n",
       "\n",
       "    .dataframe thead th {\n",
       "        text-align: right;\n",
       "    }\n",
       "</style>\n",
       "<table border=\"1\" class=\"dataframe\">\n",
       "  <thead>\n",
       "    <tr style=\"text-align: right;\">\n",
       "      <th></th>\n",
       "      <th>title</th>\n",
       "      <th>post</th>\n",
       "      <th>nsfw</th>\n",
       "      <th>ups</th>\n",
       "      <th>num_com</th>\n",
       "      <th>author</th>\n",
       "      <th>subreddit</th>\n",
       "    </tr>\n",
       "  </thead>\n",
       "  <tbody>\n",
       "    <tr>\n",
       "      <th>0</th>\n",
       "      <td>By popular demand, we now have a discord serve...</td>\n",
       "      <td>**Guaranteed reposts.** \\n\\nhttps://discord.gg...</td>\n",
       "      <td>False</td>\n",
       "      <td>3406</td>\n",
       "      <td>270</td>\n",
       "      <td>love_the_heat</td>\n",
       "      <td>Jokes</td>\n",
       "    </tr>\n",
       "    <tr>\n",
       "      <th>1</th>\n",
       "      <td>An Australian goes to new Zealand</td>\n",
       "      <td>An Australian goes to new Zealand and sees a g...</td>\n",
       "      <td>True</td>\n",
       "      <td>28642</td>\n",
       "      <td>708</td>\n",
       "      <td>sproket999</td>\n",
       "      <td>Jokes</td>\n",
       "    </tr>\n",
       "    <tr>\n",
       "      <th>2</th>\n",
       "      <td>I buy my guns from a guy named T-Rex</td>\n",
       "      <td>He's a small arms dealer.</td>\n",
       "      <td>False</td>\n",
       "      <td>2946</td>\n",
       "      <td>65</td>\n",
       "      <td>alwaysshitting</td>\n",
       "      <td>Jokes</td>\n",
       "    </tr>\n",
       "    <tr>\n",
       "      <th>3</th>\n",
       "      <td>10 engineering professors board a plane</td>\n",
       "      <td>Once they are inside and the plane is a about ...</td>\n",
       "      <td>False</td>\n",
       "      <td>685</td>\n",
       "      <td>38</td>\n",
       "      <td>Alex_Kh</td>\n",
       "      <td>Jokes</td>\n",
       "    </tr>\n",
       "    <tr>\n",
       "      <th>4</th>\n",
       "      <td>How does The Rock pee?</td>\n",
       "      <td>He Dwaynes his Johnson.</td>\n",
       "      <td>False</td>\n",
       "      <td>20955</td>\n",
       "      <td>305</td>\n",
       "      <td>TheRealTripleH</td>\n",
       "      <td>Jokes</td>\n",
       "    </tr>\n",
       "  </tbody>\n",
       "</table>\n",
       "</div>"
      ],
      "text/plain": [
       "                                               title  \\\n",
       "0  By popular demand, we now have a discord serve...   \n",
       "1                  An Australian goes to new Zealand   \n",
       "2               I buy my guns from a guy named T-Rex   \n",
       "3            10 engineering professors board a plane   \n",
       "4                             How does The Rock pee?   \n",
       "\n",
       "                                                post   nsfw    ups  num_com  \\\n",
       "0  **Guaranteed reposts.** \\n\\nhttps://discord.gg...  False   3406      270   \n",
       "1  An Australian goes to new Zealand and sees a g...   True  28642      708   \n",
       "2                         He's a small arms dealer.   False   2946       65   \n",
       "3  Once they are inside and the plane is a about ...  False    685       38   \n",
       "4                            He Dwaynes his Johnson.  False  20955      305   \n",
       "\n",
       "           author subreddit  \n",
       "0   love_the_heat     Jokes  \n",
       "1      sproket999     Jokes  \n",
       "2  alwaysshitting     Jokes  \n",
       "3         Alex_Kh     Jokes  \n",
       "4  TheRealTripleH     Jokes  "
      ]
     },
     "execution_count": 5,
     "metadata": {},
     "output_type": "execute_result"
    }
   ],
   "source": [
    "df2.head()"
   ]
  },
  {
   "cell_type": "code",
   "execution_count": 6,
   "metadata": {},
   "outputs": [
    {
     "name": "stdout",
     "output_type": "stream",
     "text": [
      "(976, 7)\n",
      "(889, 7)\n",
      "1865\n"
     ]
    }
   ],
   "source": [
    "#print to see how many rows\n",
    "print(df1.shape)\n",
    "print(df2.shape)\n",
    "print(976+889)"
   ]
  },
  {
   "cell_type": "code",
   "execution_count": 7,
   "metadata": {},
   "outputs": [],
   "source": [
    "#concat the two df\n",
    "all_df = [df1, df2]\n",
    "df = pd.concat(all_df).reset_index(drop=True)"
   ]
  },
  {
   "cell_type": "code",
   "execution_count": 8,
   "metadata": {},
   "outputs": [],
   "source": [
    "#don't need these columns \n",
    "df = df.drop(columns=['nsfw', 'ups', 'num_com'])"
   ]
  },
  {
   "cell_type": "code",
   "execution_count": 9,
   "metadata": {},
   "outputs": [
    {
     "data": {
      "text/plain": [
       "(1865, 4)"
      ]
     },
     "execution_count": 9,
     "metadata": {},
     "output_type": "execute_result"
    }
   ],
   "source": [
    "#confirm final shape\n",
    "df.shape"
   ]
  },
  {
   "cell_type": "markdown",
   "metadata": {
    "focus": false,
    "id": "db045898-1d2d-4af2-8e79-437c4c7546b4"
   },
   "source": [
    "## Preprocessing"
   ]
  },
  {
   "cell_type": "code",
   "execution_count": 10,
   "metadata": {},
   "outputs": [],
   "source": [
    "#change target column to binary so talesfromtech will be 1 and jokes will be 0\n",
    "df['subreddit'] = [1 if i == 'talesfromtechsupport' else 0 for i in df['subreddit']]"
   ]
  },
  {
   "cell_type": "code",
   "execution_count": 11,
   "metadata": {},
   "outputs": [],
   "source": [
    "#check to make sure it works\n",
    "# df.head()\n",
    "# df.tail()"
   ]
  },
  {
   "cell_type": "code",
   "execution_count": 12,
   "metadata": {},
   "outputs": [],
   "source": [
    "#Check what our titles look like\n",
    "# df['title'][5]"
   ]
  },
  {
   "cell_type": "code",
   "execution_count": 13,
   "metadata": {},
   "outputs": [],
   "source": [
    "#Check what our posts look like\n",
    "# df['Post'][0]"
   ]
  },
  {
   "cell_type": "code",
   "execution_count": 14,
   "metadata": {},
   "outputs": [],
   "source": [
    "# Function to convert a raw post to a string of words\n",
    "def raw_to_words(raw):\n",
    "    \n",
    "    #remove URL\n",
    "    link = re.sub(r'http\\S+', '', raw)\n",
    "    \n",
    "    # Remove HTML\n",
    "    text = BeautifulSoup(link).get_text()\n",
    "    \n",
    "    # Remove non-letters        \n",
    "    letters_only = re.sub(\"[^a-zA-Z]\", \" \", text)\n",
    "    \n",
    "    # Convert to lower case, split into individual words\n",
    "    words = letters_only.lower().split()\n",
    "    \n",
    "    # convert the stop words to a set\n",
    "    stops = set(stopwords.words('english'))\n",
    "    \n",
    "    # Remove stop words\n",
    "    meaningful_words = [w for w in words if not w in stops]\n",
    "    \n",
    "    # Join the words back into one string separated by space and return the result.\n",
    "    return (\" \".join(meaningful_words))"
   ]
  },
  {
   "cell_type": "code",
   "execution_count": 15,
   "metadata": {},
   "outputs": [
    {
     "data": {
      "text/plain": [
       "'hey two stickies something like mod removals posts obviously belong ask checked rules first almost everyone says sorry read sidebar asked read sidebar almost everyone says b b mobile sticky dear non sidebar reading mobile users first link tfts sidebar convenience non plausible deniability second hot list rules tfts rule post must story tech support like says rule anonymize info keep personal business names story rule keep post sfw people browse tfts job need respect rule question posts post figure problem rule image links tell story words please graphics memes rule links redirect us someplace else even reddit rule complaint posts want hear really rule pranking hacking etc tfts helping people messing rule jerk know exactly talking bout willis tfts wiki details rules notable tfts info well instance review list officially retired topics check best tfts collections thanks reading welcome r talesfromtechsupport post locked comments auto removed please message mods question suggestion remember hide message read never see edit fixed links mobile users'"
      ]
     },
     "execution_count": 15,
     "metadata": {},
     "output_type": "execute_result"
    }
   ],
   "source": [
    "#check first post to see if it worked\n",
    "raw_to_words(df['post'][0])"
   ]
  },
  {
   "cell_type": "code",
   "execution_count": 16,
   "metadata": {},
   "outputs": [],
   "source": [
    "#apply data cleaning function to columns\n",
    "df['title'] = df['title'].map(raw_to_words)\n",
    "df['post'] = df['post'].map(raw_to_words)\n",
    "df['author'] = df['author'].map(raw_to_words)"
   ]
  },
  {
   "cell_type": "code",
   "execution_count": 17,
   "metadata": {},
   "outputs": [
    {
     "data": {
      "text/plain": [
       "1    0.523324\n",
       "0    0.476676\n",
       "Name: subreddit, dtype: float64"
      ]
     },
     "execution_count": 17,
     "metadata": {},
     "output_type": "execute_result"
    }
   ],
   "source": [
    "# look at baseline accuracy, majority looks like it is talesfromtechsupport with 52.3%\n",
    "# we would want something at least greater than this.\n",
    "df['subreddit'].value_counts(normalize=True)"
   ]
  },
  {
   "cell_type": "markdown",
   "metadata": {},
   "source": [
    "## Build Models"
   ]
  },
  {
   "cell_type": "markdown",
   "metadata": {},
   "source": [
    "### Title Column\n",
    "\n",
    "I am going to start with the title column and see how just the title does in predicting subreddit talesfromtechsupport"
   ]
  },
  {
   "cell_type": "markdown",
   "metadata": {},
   "source": [
    "#### Count Vectorizer"
   ]
  },
  {
   "cell_type": "code",
   "execution_count": 18,
   "metadata": {},
   "outputs": [],
   "source": [
    "#set X and y to run train test split for title\n",
    "X_title = df.title\n",
    "y = df.subreddit"
   ]
  },
  {
   "cell_type": "code",
   "execution_count": 19,
   "metadata": {},
   "outputs": [],
   "source": [
    "X_train, X_test, y_train, y_test = train_test_split(X_title , y , test_size = .33, random_state = 42)"
   ]
  },
  {
   "cell_type": "code",
   "execution_count": 20,
   "metadata": {},
   "outputs": [],
   "source": [
    "#n-gram = 1\n",
    "cvec = CountVectorizer(stop_words='english', max_features = 5000, ngram_range=(1,1)).fit(X_train)\n",
    "df_train = pd.DataFrame(cvec.transform(X_train).todense(), columns=cvec.get_feature_names())\n",
    "df_test = pd.DataFrame(cvec.transform(X_test).todense(), columns=cvec.get_feature_names())"
   ]
  },
  {
   "cell_type": "code",
   "execution_count": 21,
   "metadata": {},
   "outputs": [],
   "source": [
    "#n-gram = 2\n",
    "cvec = CountVectorizer(stop_words='english', max_features = 5000, ngram_range=(1,2)).fit(X_train)\n",
    "df_train_2 = pd.DataFrame(cvec.transform(X_train).todense(), columns=cvec.get_feature_names())\n",
    "df_test_2 = pd.DataFrame(cvec.transform(X_test).todense(), columns=cvec.get_feature_names())"
   ]
  },
  {
   "cell_type": "markdown",
   "metadata": {},
   "source": [
    "#### TfidVectorizer"
   ]
  },
  {
   "cell_type": "code",
   "execution_count": 22,
   "metadata": {},
   "outputs": [],
   "source": [
    "#n-gram = 1\n",
    "tvec = TfidfVectorizer(stop_words='english', ngram_range=(1,1)).fit(X_train)\n",
    "train_title = pd.DataFrame(tvec.transform(X_train).todense(), columns = tvec.get_feature_names())\n",
    "test_title = pd.DataFrame(tvec.transform(X_test).todense(), columns = tvec.get_feature_names())"
   ]
  },
  {
   "cell_type": "code",
   "execution_count": 23,
   "metadata": {},
   "outputs": [],
   "source": [
    "#n-gram = 2\n",
    "tvec = TfidfVectorizer(stop_words='english', ngram_range=(1,2)).fit(X_train)\n",
    "train_title_2 = pd.DataFrame(tvec.transform(X_train).todense(), columns = tvec.get_feature_names())\n",
    "test_title_2 = pd.DataFrame(tvec.transform(X_test).todense(), columns = tvec.get_feature_names())"
   ]
  },
  {
   "cell_type": "markdown",
   "metadata": {},
   "source": [
    "#### Create a dataframe to store my accuracy scores along the way"
   ]
  },
  {
   "cell_type": "code",
   "execution_count": 24,
   "metadata": {},
   "outputs": [],
   "source": [
    "#set columns and index for the df\n",
    "columns = ['cvec_score_1', 'cvec_score_2', 'tvec_score_1', 'tvec_score_2']\n",
    "index = ['lr_title', 'randomforest_title', 'multinomial_title',\n",
    "         'lr_post', 'randomforest_post', 'multinomial_post',\n",
    "         'lr_title_post', 'randomforest_title_post', 'multinomial_title_post']\n",
    "score_df = pd.DataFrame(index=index,columns=columns)"
   ]
  },
  {
   "cell_type": "code",
   "execution_count": 25,
   "metadata": {},
   "outputs": [],
   "source": [
    "# score_df"
   ]
  },
  {
   "cell_type": "markdown",
   "metadata": {},
   "source": [
    "#### Logistic Regression\n",
    " `Obvservations`:\n",
    "Count vectorize (cvec) and tfidf vectorize (tvec) setting n-gram to one or two then model with logistic regression. It seems like looking at the accuracy scores the lr models using tvec performed much better than the models using cvec. Also, increasing the n-gram did not help with improving the score. However, it seems to me that my model is overfitting when comparing the accuracy score with the train score. "
   ]
  },
  {
   "cell_type": "code",
   "execution_count": 26,
   "metadata": {},
   "outputs": [
    {
     "name": "stdout",
     "output_type": "stream",
     "text": [
      "accuracy score 0.8003246753246753\n",
      "train score 0.988791032826261\n"
     ]
    }
   ],
   "source": [
    "#n-gram = 1, CVEC\n",
    "lr = LogisticRegression()\n",
    "lr.fit(df_train, y_train)\n",
    "\n",
    "y_pred = lr.predict(df_test)\n",
    "score_df['cvec_score_1']['lr_title'] = accuracy_score(y_test, y_pred)\n",
    "print('accuracy score', accuracy_score(y_test, y_pred))\n",
    "print('train score', lr.score(df_train, y_train))"
   ]
  },
  {
   "cell_type": "code",
   "execution_count": 27,
   "metadata": {},
   "outputs": [
    {
     "name": "stdout",
     "output_type": "stream",
     "text": [
      "accuracy score 0.7808441558441559\n",
      "train score 0.9935948759007206\n"
     ]
    }
   ],
   "source": [
    "#n-gram = 2, CVEC\n",
    "lr = LogisticRegression()\n",
    "lr.fit(df_train_2, y_train)\n",
    "\n",
    "y_pred = lr.predict(df_test_2)\n",
    "score_df['cvec_score_2']['lr_title'] = accuracy_score(y_test, y_pred)\n",
    "print('accuracy score', accuracy_score(y_test, y_pred))\n",
    "print('train score', lr.score(df_train_2, y_train))"
   ]
  },
  {
   "cell_type": "code",
   "execution_count": 28,
   "metadata": {},
   "outputs": [
    {
     "name": "stdout",
     "output_type": "stream",
     "text": [
      "accuracy score 0.8165584415584416\n",
      "train score 0.9759807846277022\n"
     ]
    }
   ],
   "source": [
    "#n-gram = 1, TVEC\n",
    "lr = LogisticRegression()\n",
    "lr.fit(train_title, y_train)\n",
    "\n",
    "y_pred = lr.predict(test_title)\n",
    "score_df['tvec_score_1']['lr_title'] = accuracy_score(y_test, y_pred)\n",
    "print('accuracy score', accuracy_score(y_test, y_pred))\n",
    "print('train score', lr.score(train_title, y_train))"
   ]
  },
  {
   "cell_type": "code",
   "execution_count": 29,
   "metadata": {},
   "outputs": [
    {
     "name": "stdout",
     "output_type": "stream",
     "text": [
      "accuracy score 0.810064935064935\n",
      "train score 0.9935948759007206\n"
     ]
    }
   ],
   "source": [
    "#n-gram = 2, TVEC\n",
    "lr = LogisticRegression()\n",
    "lr.fit(train_title_2, y_train)\n",
    "\n",
    "y_pred = lr.predict(test_title_2)\n",
    "score_df['tvec_score_2']['lr_title'] = accuracy_score(y_test, y_pred)\n",
    "print('accuracy score', accuracy_score(y_test, y_pred))\n",
    "print('train score', lr.score(train_title_2, y_train))"
   ]
  },
  {
   "cell_type": "markdown",
   "metadata": {},
   "source": [
    "#### Random Forest\n",
    " `Obvservations`:\n",
    "Count vectorize (cvec) and tfidf vectorize (tvec) setting n-gram to one or two then model with RandomForest Classifier (rf). Like the other two types, this model is also overfitting when comparing the accuracy score with the train score. Although, one thing I noticed is that increasing the n-grams in a random forest model does help with increasing the test scores. For my params, I tried tuning for higher estimators but either its too computationally heavy or my computer is just slow."
   ]
  },
  {
   "cell_type": "code",
   "execution_count": 30,
   "metadata": {},
   "outputs": [
    {
     "name": "stdout",
     "output_type": "stream",
     "text": [
      "0.8174539631705364\n",
      "0.7224025974025974\n"
     ]
    }
   ],
   "source": [
    "#n-gram = 1, CVEC\n",
    "rf_param={\n",
    "    'class_weight': ['balanced'],\n",
    "    'n_estimators': (45, 50, 55),\n",
    "    'max_depth': [5, 6]\n",
    "}\n",
    "rf = GridSearchCV(RandomForestClassifier(random_state=42), param_grid=rf_param)\n",
    "rf.fit(df_train, y_train)\n",
    "\n",
    "score_df['cvec_score_1']['randomforest_title'] = rf.score(df_test, y_test)\n",
    "print(rf.score(df_train, y_train))\n",
    "print(rf.score(df_test, y_test))"
   ]
  },
  {
   "cell_type": "code",
   "execution_count": 31,
   "metadata": {},
   "outputs": [
    {
     "name": "stdout",
     "output_type": "stream",
     "text": [
      "0.8022417934347478\n",
      "0.7061688311688312\n"
     ]
    }
   ],
   "source": [
    "#n-gram = 2, CVEC\n",
    "rf_param={\n",
    "    'class_weight': ['balanced'],\n",
    "    'n_estimators': (45, 50, 55),\n",
    "    'max_depth': [5, 6]\n",
    "}\n",
    "rf = GridSearchCV(RandomForestClassifier(random_state=42), param_grid=rf_param)\n",
    "rf.fit(df_train_2, y_train)\n",
    "\n",
    "score_df['cvec_score_2']['randomforest_title'] = rf.score(df_test_2, y_test)\n",
    "print(rf.score(df_train_2, y_train))\n",
    "print(rf.score(df_test_2, y_test))"
   ]
  },
  {
   "cell_type": "code",
   "execution_count": 32,
   "metadata": {},
   "outputs": [
    {
     "name": "stdout",
     "output_type": "stream",
     "text": [
      "0.7838270616493195\n",
      "0.6948051948051948\n"
     ]
    }
   ],
   "source": [
    "#n-gram = 1, TVEC\n",
    "rf_param={\n",
    "    'class_weight': ['balanced'],\n",
    "    'n_estimators': (45, 50, 55),\n",
    "    'max_depth': [5, 6]\n",
    "}\n",
    "rf = GridSearchCV(RandomForestClassifier(random_state=42), param_grid=rf_param)\n",
    "rf.fit(train_title, y_train)\n",
    "\n",
    "score_df['tvec_score_1']['randomforest_title'] = rf.score(test_title, y_test)\n",
    "print(rf.score(train_title, y_train))\n",
    "print(rf.score(test_title, y_test))"
   ]
  },
  {
   "cell_type": "code",
   "execution_count": 33,
   "metadata": {},
   "outputs": [
    {
     "name": "stdout",
     "output_type": "stream",
     "text": [
      "0.7878302642113691\n",
      "0.6964285714285714\n"
     ]
    }
   ],
   "source": [
    "#n-gram = 2, TVEC\n",
    "rf_param={\n",
    "    'class_weight': ['balanced'],\n",
    "    'n_estimators': (45, 50, 55),\n",
    "    'max_depth': [5, 6]\n",
    "}\n",
    "rf = GridSearchCV(RandomForestClassifier(random_state=42), param_grid=rf_param)\n",
    "rf.fit(train_title_2, y_train)\n",
    "\n",
    "score_df['tvec_score_2']['randomforest_title'] = rf.score(test_title_2, y_test)\n",
    "print(rf.score(train_title_2, y_train))\n",
    "print(rf.score(test_title_2, y_test))"
   ]
  },
  {
   "cell_type": "markdown",
   "metadata": {},
   "source": [
    "#### MultinomialNB\n",
    " `Obvservations`:\n",
    "Count vectorize (cvec) and tfidf vectorize (tvec) setting n-gram to one or two then model with Multinomial NB (mnb). It seems like looking at the accuracy scores the mnb models using cvec performed much better than the models using tvec and increasing the n-gram did not help with improving the score. In this case, it seems to me that my model is slightly better than my log reg model but it is still overfitting when comparing the accuracy score with the train score. "
   ]
  },
  {
   "cell_type": "code",
   "execution_count": 34,
   "metadata": {},
   "outputs": [
    {
     "name": "stdout",
     "output_type": "stream",
     "text": [
      "accuracy score 0.8198051948051948\n",
      "train score 0.9751801441152922\n"
     ]
    }
   ],
   "source": [
    "#n-gram = 1, CVEC\n",
    "mnb = MultinomialNB()\n",
    "mnb.fit(df_train, y_train)\n",
    "\n",
    "y_pred = mnb.predict(df_test)\n",
    "score_df['cvec_score_1']['multinomial_title'] = accuracy_score(y_test, y_pred)\n",
    "print('accuracy score', accuracy_score(y_test, y_pred))\n",
    "print('train score', mnb.score(df_train, y_train))"
   ]
  },
  {
   "cell_type": "code",
   "execution_count": 35,
   "metadata": {},
   "outputs": [
    {
     "name": "stdout",
     "output_type": "stream",
     "text": [
      "accuracy score 0.810064935064935\n",
      "train score 0.9815852682145717\n"
     ]
    }
   ],
   "source": [
    "#n-gram = 2, CVEC\n",
    "mnb = MultinomialNB()\n",
    "mnb.fit(df_train_2, y_train)\n",
    "\n",
    "y_pred = mnb.predict(df_test_2)\n",
    "score_df['cvec_score_2']['multinomial_title'] = accuracy_score(y_test, y_pred)\n",
    "print('accuracy score', accuracy_score(y_test, y_pred))\n",
    "print('train score', mnb.score(df_train_2, y_train))"
   ]
  },
  {
   "cell_type": "code",
   "execution_count": 36,
   "metadata": {},
   "outputs": [
    {
     "name": "stdout",
     "output_type": "stream",
     "text": [
      "accuracy score 0.8181818181818182\n",
      "train score 0.9815852682145717\n"
     ]
    }
   ],
   "source": [
    "#n-gram = 1, TVEC\n",
    "mnb = MultinomialNB()\n",
    "mnb.fit(train_title, y_train)\n",
    "\n",
    "y_pred = mnb.predict(test_title)\n",
    "score_df['tvec_score_1']['multinomial_title'] = accuracy_score(y_test, y_pred)\n",
    "print('accuracy score', accuracy_score(y_test, y_pred))\n",
    "print('train score', mnb.score(train_title, y_train))"
   ]
  },
  {
   "cell_type": "code",
   "execution_count": 37,
   "metadata": {},
   "outputs": [
    {
     "name": "stdout",
     "output_type": "stream",
     "text": [
      "accuracy score 0.810064935064935\n",
      "train score 0.9951961569255404\n"
     ]
    }
   ],
   "source": [
    "#n-gram = 2, TVEC\n",
    "mnb = MultinomialNB()\n",
    "mnb.fit(train_title_2, y_train)\n",
    "\n",
    "y_pred = mnb.predict(test_title_2)\n",
    "score_df['tvec_score_2']['multinomial_title'] = accuracy_score(y_test, y_pred)\n",
    "print('accuracy score', accuracy_score(y_test, y_pred))\n",
    "print('train score', mnb.score(train_title_2, y_train))"
   ]
  },
  {
   "cell_type": "markdown",
   "metadata": {},
   "source": [
    "### Post Column\n",
    "Next I am going to take a look at just the post texts"
   ]
  },
  {
   "cell_type": "markdown",
   "metadata": {},
   "source": [
    "#### Count Vectorizer"
   ]
  },
  {
   "cell_type": "code",
   "execution_count": 38,
   "metadata": {},
   "outputs": [],
   "source": [
    "#set x and y for train test split\n",
    "X_post = df.post\n",
    "y = df.subreddit"
   ]
  },
  {
   "cell_type": "code",
   "execution_count": 39,
   "metadata": {},
   "outputs": [],
   "source": [
    "X_train, X_test, y_train, y_test = train_test_split(X_post, y, test_size = 0.33, random_state=42)"
   ]
  },
  {
   "cell_type": "code",
   "execution_count": 40,
   "metadata": {},
   "outputs": [],
   "source": [
    "#n-gram = 1\n",
    "cvec = CountVectorizer(stop_words='english', max_features = 5000, ngram_range=(1,1)).fit(X_train)\n",
    "cvec_train_post = pd.DataFrame(cvec.transform(X_train).todense(), columns=cvec.get_feature_names())\n",
    "cvec_test_post = pd.DataFrame(cvec.transform(X_test).todense(), columns=cvec.get_feature_names())"
   ]
  },
  {
   "cell_type": "code",
   "execution_count": 41,
   "metadata": {},
   "outputs": [],
   "source": [
    "#n-gram = 2\n",
    "cvec_2 = CountVectorizer(stop_words='english', max_features = 5000, ngram_range=(1,2)).fit(X_train)\n",
    "cvec_train_post_2 = pd.DataFrame(cvec_2.transform(X_train).todense(), columns=cvec_2.get_feature_names())\n",
    "cvec_test_post_2 = pd.DataFrame(cvec_2.transform(X_test).todense(), columns=cvec_2.get_feature_names())"
   ]
  },
  {
   "cell_type": "markdown",
   "metadata": {},
   "source": [
    "#### TfidVectorizer"
   ]
  },
  {
   "cell_type": "code",
   "execution_count": 42,
   "metadata": {},
   "outputs": [],
   "source": [
    "#n-gram = 1\n",
    "tvec = TfidfVectorizer(stop_words='english', ngram_range=(1,1)).fit(X_train)\n",
    "tvec_train_post = pd.DataFrame(tvec.transform(X_train).todense(), columns = tvec.get_feature_names())\n",
    "tvec_test_post = pd.DataFrame(tvec.transform(X_test).todense(), columns = tvec.get_feature_names())"
   ]
  },
  {
   "cell_type": "code",
   "execution_count": 43,
   "metadata": {},
   "outputs": [],
   "source": [
    "#n-gram = 2\n",
    "tvec_2 = TfidfVectorizer(stop_words='english', ngram_range=(1,2)).fit(X_train)\n",
    "tvec_train_post_2 = pd.DataFrame(tvec_2.transform(X_train).todense(), columns = tvec_2.get_feature_names())\n",
    "tvec_test_post_2 = pd.DataFrame(tvec_2.transform(X_test).todense(), columns = tvec_2.get_feature_names())"
   ]
  },
  {
   "cell_type": "markdown",
   "metadata": {},
   "source": [
    "#### Logistic Regression\n",
    " `Obvservations`:\n",
    "Count vectorize (cvec) and tfidf vectorize (tvec) setting n-gram to one or two then model with logistic regression. It seems like looking at the accuracy scores the lr models using tvec performed much better than the models using cvec. Also, increasing the n-gram did not help with improving the score. However, it seems to me that my model is doing great when comparing the accuracy score with the train score. The post feature must be a better indicator for predicting subreddit"
   ]
  },
  {
   "cell_type": "code",
   "execution_count": 44,
   "metadata": {},
   "outputs": [
    {
     "name": "stdout",
     "output_type": "stream",
     "text": [
      "accuracy score 0.9837662337662337\n",
      "train score 1.0\n"
     ]
    }
   ],
   "source": [
    "#n-gram = 1, CVEC\n",
    "lr = LogisticRegression()\n",
    "lr.fit(cvec_train_post, y_train)\n",
    "\n",
    "y_pred = lr.predict(cvec_test_post)\n",
    "score_df['cvec_score_1']['lr_post'] = accuracy_score(y_test, y_pred)\n",
    "print('accuracy score', accuracy_score(y_test, y_pred))\n",
    "print('train score', lr.score(cvec_train_post, y_train))"
   ]
  },
  {
   "cell_type": "code",
   "execution_count": 45,
   "metadata": {},
   "outputs": [
    {
     "name": "stdout",
     "output_type": "stream",
     "text": [
      "accuracy score 0.9837662337662337\n",
      "train score 1.0\n"
     ]
    }
   ],
   "source": [
    "#n-gram = 2, CVEC\n",
    "lr = LogisticRegression()\n",
    "lr.fit(cvec_train_post_2, y_train)\n",
    "\n",
    "y_pred = lr.predict(cvec_test_post_2)\n",
    "score_df['cvec_score_2']['lr_post'] = accuracy_score(y_test, y_pred)\n",
    "print('accuracy score', accuracy_score(y_test, y_pred))\n",
    "print('train score', lr.score(cvec_train_post_2, y_train))"
   ]
  },
  {
   "cell_type": "code",
   "execution_count": 46,
   "metadata": {},
   "outputs": [
    {
     "name": "stdout",
     "output_type": "stream",
     "text": [
      "accuracy score 0.9935064935064936\n",
      "train score 0.9975980784627703\n"
     ]
    }
   ],
   "source": [
    "#n-gram = 1, TVEC\n",
    "lr = LogisticRegression()\n",
    "lr.fit(tvec_train_post, y_train)\n",
    "\n",
    "y_pred = lr.predict(tvec_test_post)\n",
    "score_df['tvec_score_1']['lr_post'] = accuracy_score(y_test, y_pred)\n",
    "print('accuracy score', accuracy_score(y_test, y_pred))\n",
    "print('train score', lr.score(tvec_train_post, y_train))"
   ]
  },
  {
   "cell_type": "code",
   "execution_count": 47,
   "metadata": {},
   "outputs": [
    {
     "name": "stdout",
     "output_type": "stream",
     "text": [
      "accuracy score 0.9821428571428571\n",
      "train score 0.9983987189751802\n"
     ]
    }
   ],
   "source": [
    "#n-gram = 2, TVEC\n",
    "lr = LogisticRegression()\n",
    "lr.fit(tvec_train_post_2, y_train)\n",
    "\n",
    "y_pred = lr.predict(tvec_test_post_2)\n",
    "score_df['tvec_score_2']['lr_post'] = accuracy_score(y_test, y_pred)\n",
    "print('accuracy score', accuracy_score(y_test, y_pred))\n",
    "print('train score', lr.score(tvec_train_post_2, y_train))"
   ]
  },
  {
   "cell_type": "markdown",
   "metadata": {},
   "source": [
    "#### Random Forest\n",
    " `Obvservations`:\n",
    "Count vectorize (cvec) and tfidf vectorize (tvec) setting n-gram to one or two then model with RandomForest Classifier (rf). Increasing n-gram did nothing or decreased the score here. However, all of them are not over fitting the data."
   ]
  },
  {
   "cell_type": "code",
   "execution_count": 48,
   "metadata": {},
   "outputs": [
    {
     "name": "stdout",
     "output_type": "stream",
     "text": [
      "0.9839871897518014\n",
      "0.9691558441558441\n"
     ]
    }
   ],
   "source": [
    "#n-gram = 1, CVEC\n",
    "rf_param={\n",
    "    'class_weight': ['balanced'],\n",
    "    'n_estimators': (45, 50, 55),\n",
    "    'max_depth': [5, 6]\n",
    "}\n",
    "rf = GridSearchCV(RandomForestClassifier(random_state=42), param_grid=rf_param)\n",
    "rf.fit(cvec_train_post, y_train)\n",
    "\n",
    "score_df['cvec_score_1']['randomforest_post'] = rf.score(cvec_test_post, y_test)\n",
    "print(rf.score(cvec_train_post, y_train))\n",
    "print(rf.score(cvec_test_post, y_test))"
   ]
  },
  {
   "cell_type": "code",
   "execution_count": 49,
   "metadata": {},
   "outputs": [
    {
     "name": "stdout",
     "output_type": "stream",
     "text": [
      "0.9727782225780625\n",
      "0.9496753246753247\n"
     ]
    }
   ],
   "source": [
    "#n-gram = 2, CVEC\n",
    "rf_param={\n",
    "    'class_weight': ['balanced'],\n",
    "    'n_estimators': (45, 50, 55),\n",
    "    'max_depth': [5, 6]\n",
    "}\n",
    "rf = GridSearchCV(RandomForestClassifier(random_state=42), param_grid=rf_param)\n",
    "rf.fit(cvec_train_post_2, y_train)\n",
    "\n",
    "score_df['cvec_score_2']['randomforest_post'] = rf.score(cvec_test_post_2, y_test)\n",
    "print(rf.score(cvec_train_post_2, y_train))\n",
    "print(rf.score(cvec_test_post_2, y_test))"
   ]
  },
  {
   "cell_type": "code",
   "execution_count": 50,
   "metadata": {},
   "outputs": [
    {
     "name": "stdout",
     "output_type": "stream",
     "text": [
      "0.9807846277021617\n",
      "0.9675324675324676\n"
     ]
    }
   ],
   "source": [
    "#n-gram = 1, TVEC\n",
    "rf_param={\n",
    "    'class_weight': ['balanced'],\n",
    "    'n_estimators': (45, 50, 55),\n",
    "    'max_depth': [5, 6]\n",
    "}\n",
    "rf = GridSearchCV(RandomForestClassifier(random_state=42), param_grid=rf_param)\n",
    "rf.fit(tvec_train_post, y_train)\n",
    "\n",
    "score_df['tvec_score_1']['randomforest_post'] = rf.score(tvec_test_post, y_test)\n",
    "print(rf.score(tvec_train_post, y_train))\n",
    "print(rf.score(tvec_test_post, y_test))"
   ]
  },
  {
   "cell_type": "code",
   "execution_count": 51,
   "metadata": {},
   "outputs": [
    {
     "name": "stdout",
     "output_type": "stream",
     "text": [
      "0.9479583666933546\n",
      "0.9383116883116883\n"
     ]
    }
   ],
   "source": [
    "#n-gram = 2, TVEC\n",
    "rf_param={\n",
    "    'class_weight': ['balanced'],\n",
    "    'n_estimators': (45, 50, 55),\n",
    "    'max_depth': [5, 6]\n",
    "}\n",
    "rf = GridSearchCV(RandomForestClassifier(random_state=42), param_grid=rf_param)\n",
    "rf.fit(tvec_train_post_2, y_train)\n",
    "\n",
    "score_df['tvec_score_2']['randomforest_post'] = rf.score(tvec_test_post_2, y_test)\n",
    "print(rf.score(tvec_train_post_2, y_train))\n",
    "print(rf.score(tvec_test_post_2, y_test))"
   ]
  },
  {
   "cell_type": "markdown",
   "metadata": {},
   "source": [
    "#### Multinomial NB\n",
    " `Obvservations`:\n",
    "Count vectorize (cvec) and tfidf vectorize (tvec) setting n-gram to one or two then model with Multinomial NB (mnb). It seems like looking at the accuracy scores the mnb models using cvec performed much better than the models using tvec and increasing the n-gram did not help with improving the score (it actually leads the model to overfitting). My mnb models here don't do as well as my random forest and log reg models. "
   ]
  },
  {
   "cell_type": "code",
   "execution_count": 52,
   "metadata": {},
   "outputs": [
    {
     "name": "stdout",
     "output_type": "stream",
     "text": [
      "accuracy score 0.8116883116883117\n",
      "train score 0.8863090472377902\n"
     ]
    }
   ],
   "source": [
    "#n-gram = 1, CVEC\n",
    "mnb = MultinomialNB()\n",
    "mnb.fit(cvec_train_post, y_train)\n",
    "\n",
    "y_pred = mnb.predict(cvec_test_post)\n",
    "score_df['cvec_score_1']['multinomial_post'] = accuracy_score(y_test, y_pred)\n",
    "print('accuracy score', accuracy_score(y_test, y_pred))\n",
    "print('train score', mnb.score(cvec_train_post, y_train))"
   ]
  },
  {
   "cell_type": "code",
   "execution_count": 53,
   "metadata": {},
   "outputs": [
    {
     "name": "stdout",
     "output_type": "stream",
     "text": [
      "accuracy score 0.8035714285714286\n",
      "train score 0.877502001601281\n"
     ]
    }
   ],
   "source": [
    "#n-gram = 2, CVEC\n",
    "mnb = MultinomialNB()\n",
    "mnb.fit(cvec_train_post_2, y_train)\n",
    "\n",
    "y_pred = mnb.predict(cvec_test_post_2)\n",
    "score_df['cvec_score_2']['multinomial_post'] = accuracy_score(y_test, y_pred)\n",
    "print('accuracy score', accuracy_score(y_test, y_pred))\n",
    "print('train score', mnb.score(cvec_train_post_2, y_train))"
   ]
  },
  {
   "cell_type": "code",
   "execution_count": 54,
   "metadata": {},
   "outputs": [
    {
     "name": "stdout",
     "output_type": "stream",
     "text": [
      "accuracy score 0.7126623376623377\n",
      "train score 0.9319455564451561\n"
     ]
    }
   ],
   "source": [
    "#n-gram = 1, TVEC\n",
    "mnb = MultinomialNB()\n",
    "mnb.fit(tvec_train_post, y_train)\n",
    "\n",
    "y_pred = mnb.predict(tvec_test_post)\n",
    "score_df['tvec_score_1']['multinomial_post'] = accuracy_score(y_test, y_pred)\n",
    "print('accuracy score', accuracy_score(y_test, y_pred))\n",
    "print('train score', mnb.score(tvec_train_post, y_train))"
   ]
  },
  {
   "cell_type": "code",
   "execution_count": 55,
   "metadata": {},
   "outputs": [
    {
     "name": "stdout",
     "output_type": "stream",
     "text": [
      "accuracy score 0.612012987012987\n",
      "train score 0.9703763010408326\n"
     ]
    }
   ],
   "source": [
    "#n-gram = 2, TVEC\n",
    "mnb = MultinomialNB()\n",
    "mnb.fit(tvec_train_post_2, y_train)\n",
    "\n",
    "y_pred = mnb.predict(tvec_test_post_2)\n",
    "score_df['tvec_score_2']['multinomial_post'] = accuracy_score(y_test, y_pred)\n",
    "print('accuracy score', accuracy_score(y_test, y_pred))\n",
    "print('train score', mnb.score(tvec_train_post_2, y_train))"
   ]
  },
  {
   "cell_type": "markdown",
   "metadata": {},
   "source": [
    "### Title and Post\n",
    "Lastly, lets take a look at title and post texts"
   ]
  },
  {
   "cell_type": "code",
   "execution_count": 56,
   "metadata": {
    "focus": false,
    "id": "269b9e7c-60b5-4a06-8255-881d7395bc1b"
   },
   "outputs": [],
   "source": [
    "#concat cvec of title and post for train and test\n",
    "cvec_title_post_train = pd.concat([cvec_train_post, df_train], axis = 1)\n",
    "cvec_title_post_test = pd.concat([cvec_test_post, df_test], axis = 1)\n",
    "\n",
    "#concat tvec of title and post for train and test\n",
    "tvec_title_post_train = pd.concat([tvec_train_post, train_title], axis = 1)\n",
    "tvec_title_post_test = pd.concat([tvec_test_post, test_title], axis = 1)"
   ]
  },
  {
   "cell_type": "code",
   "execution_count": 57,
   "metadata": {},
   "outputs": [],
   "source": [
    "# I didn't bother running n-grams = 2 for title and post\n",
    "# because it seemed like from title and post n-gram=2 didn't improve the score"
   ]
  },
  {
   "cell_type": "markdown",
   "metadata": {},
   "source": [
    "#### Logistic Regression\n",
    " `Obvservations`:\n",
    "Count vectorize (cvec) and tfidf vectorize (tvec) setting n-gram to one or two then model with logistic regression. It seems like looking at the accuracy scores the lr model using tvec performed much better than the model using cvec."
   ]
  },
  {
   "cell_type": "code",
   "execution_count": 58,
   "metadata": {},
   "outputs": [
    {
     "name": "stdout",
     "output_type": "stream",
     "text": [
      "accuracy score 0.9853896103896104\n",
      "train score 1.0\n"
     ]
    }
   ],
   "source": [
    "#cvec\n",
    "lr = LogisticRegression()\n",
    "lr.fit(cvec_title_post_train, y_train)\n",
    "\n",
    "y_pred = lr.predict(cvec_title_post_test)\n",
    "score_df['cvec_score_1']['lr_title_post'] = accuracy_score(y_test, y_pred)\n",
    "print('accuracy score', accuracy_score(y_test, y_pred))\n",
    "print('train score', lr.score(cvec_title_post_train, y_train))"
   ]
  },
  {
   "cell_type": "code",
   "execution_count": 59,
   "metadata": {},
   "outputs": [
    {
     "name": "stdout",
     "output_type": "stream",
     "text": [
      "accuracy score 0.987012987012987\n",
      "train score 0.9991993594875901\n"
     ]
    }
   ],
   "source": [
    "#tvec\n",
    "lr = LogisticRegression()\n",
    "lr.fit(tvec_title_post_train, y_train)\n",
    "\n",
    "y_pred = lr.predict(tvec_title_post_test)\n",
    "score_df['tvec_score_1']['lr_title_post'] = accuracy_score(y_test, y_pred)\n",
    "print('accuracy score', accuracy_score(y_test, y_pred))\n",
    "print('train score', lr.score(tvec_title_post_train, y_train))"
   ]
  },
  {
   "cell_type": "markdown",
   "metadata": {},
   "source": [
    "#### Random Forest\n",
    "`Obvservations`:\n",
    "Between the two models, tvec rf model did much better than cvec model here. The models has done well with high accuracy scores and no overfitting but still not better than my log reg model above. "
   ]
  },
  {
   "cell_type": "code",
   "execution_count": 60,
   "metadata": {},
   "outputs": [
    {
     "name": "stdout",
     "output_type": "stream",
     "text": [
      "0.9831865492393915\n",
      "0.9642857142857143\n"
     ]
    }
   ],
   "source": [
    "#cvec\n",
    "rf_param={\n",
    "    'class_weight': ['balanced'],\n",
    "    'n_estimators': (45, 50, 55),\n",
    "    'max_depth': [5, 6]\n",
    "}\n",
    "rf = GridSearchCV(RandomForestClassifier(random_state=42), param_grid=rf_param)\n",
    "rf.fit(cvec_title_post_train, y_train)\n",
    "\n",
    "score_df['cvec_score_1']['randomforest_title_post'] = rf.score(cvec_title_post_test, y_test)\n",
    "print(rf.score(cvec_title_post_train, y_train))\n",
    "print(rf.score(cvec_title_post_test, y_test))"
   ]
  },
  {
   "cell_type": "code",
   "execution_count": 61,
   "metadata": {},
   "outputs": [
    {
     "name": "stdout",
     "output_type": "stream",
     "text": [
      "0.9823859087269816\n",
      "0.961038961038961\n"
     ]
    }
   ],
   "source": [
    "#tvec\n",
    "rf_param={\n",
    "    'class_weight': ['balanced'],\n",
    "    'n_estimators': (45, 50, 55),\n",
    "    'max_depth': [5, 6]\n",
    "}\n",
    "rf = GridSearchCV(RandomForestClassifier(random_state=42), param_grid=rf_param)\n",
    "rf.fit(tvec_title_post_train, y_train)\n",
    "\n",
    "score_df['tvec_score_1']['randomforest_title_post'] = rf.score(tvec_title_post_test, y_test)\n",
    "print(rf.score(tvec_title_post_train, y_train))\n",
    "print(rf.score(tvec_title_post_test, y_test))"
   ]
  },
  {
   "cell_type": "markdown",
   "metadata": {},
   "source": [
    "#### Multinomial NB\n",
    "`Obvservations`:\n",
    "Lastly, my cvec multinomial model has done a better job than my tvec model. We can see that this model performed much better with both post and title together. "
   ]
  },
  {
   "cell_type": "code",
   "execution_count": 62,
   "metadata": {},
   "outputs": [
    {
     "name": "stdout",
     "output_type": "stream",
     "text": [
      "accuracy score 0.9512987012987013\n",
      "train score 0.9983987189751802\n"
     ]
    }
   ],
   "source": [
    "#cvec\n",
    "mnb = MultinomialNB()\n",
    "mnb.fit(cvec_title_post_train, y_train)\n",
    "\n",
    "y_pred = mnb.predict(cvec_title_post_test)\n",
    "score_df['cvec_score_1']['multinomial_title_post'] = accuracy_score(y_test, y_pred)\n",
    "print('accuracy score', accuracy_score(y_test, y_pred))\n",
    "print('train score', mnb.score(cvec_title_post_train, y_train))"
   ]
  },
  {
   "cell_type": "code",
   "execution_count": 63,
   "metadata": {},
   "outputs": [
    {
     "name": "stdout",
     "output_type": "stream",
     "text": [
      "accuracy score 0.8782467532467533\n",
      "train score 0.9903923138510808\n"
     ]
    }
   ],
   "source": [
    "#tvec\n",
    "mnb = MultinomialNB()\n",
    "mnb.fit(tvec_title_post_train, y_train)\n",
    "\n",
    "y_pred = mnb.predict(tvec_title_post_test)\n",
    "score_df['tvec_score_1']['multinomial_title_post'] = accuracy_score(y_test, y_pred)\n",
    "print('accuracy score', accuracy_score(y_test, y_pred))\n",
    "print('train score', mnb.score(tvec_title_post_train, y_train))"
   ]
  },
  {
   "cell_type": "markdown",
   "metadata": {},
   "source": [
    "## Analyze"
   ]
  },
  {
   "cell_type": "markdown",
   "metadata": {},
   "source": [
    "### Score Table\n",
    "Lets look at them all together"
   ]
  },
  {
   "cell_type": "code",
   "execution_count": 64,
   "metadata": {},
   "outputs": [
    {
     "data": {
      "text/html": [
       "<div>\n",
       "<style scoped>\n",
       "    .dataframe tbody tr th:only-of-type {\n",
       "        vertical-align: middle;\n",
       "    }\n",
       "\n",
       "    .dataframe tbody tr th {\n",
       "        vertical-align: top;\n",
       "    }\n",
       "\n",
       "    .dataframe thead th {\n",
       "        text-align: right;\n",
       "    }\n",
       "</style>\n",
       "<table border=\"1\" class=\"dataframe\">\n",
       "  <thead>\n",
       "    <tr style=\"text-align: right;\">\n",
       "      <th></th>\n",
       "      <th>cvec_score_1</th>\n",
       "      <th>cvec_score_2</th>\n",
       "      <th>tvec_score_1</th>\n",
       "      <th>tvec_score_2</th>\n",
       "    </tr>\n",
       "  </thead>\n",
       "  <tbody>\n",
       "    <tr>\n",
       "      <th>lr_title</th>\n",
       "      <td>0.800325</td>\n",
       "      <td>0.780844</td>\n",
       "      <td>0.816558</td>\n",
       "      <td>0.810065</td>\n",
       "    </tr>\n",
       "    <tr>\n",
       "      <th>randomforest_title</th>\n",
       "      <td>0.722403</td>\n",
       "      <td>0.706169</td>\n",
       "      <td>0.694805</td>\n",
       "      <td>0.696429</td>\n",
       "    </tr>\n",
       "    <tr>\n",
       "      <th>multinomial_title</th>\n",
       "      <td>0.819805</td>\n",
       "      <td>0.810065</td>\n",
       "      <td>0.818182</td>\n",
       "      <td>0.810065</td>\n",
       "    </tr>\n",
       "    <tr>\n",
       "      <th>lr_post</th>\n",
       "      <td>0.983766</td>\n",
       "      <td>0.983766</td>\n",
       "      <td>0.993506</td>\n",
       "      <td>0.982143</td>\n",
       "    </tr>\n",
       "    <tr>\n",
       "      <th>randomforest_post</th>\n",
       "      <td>0.969156</td>\n",
       "      <td>0.949675</td>\n",
       "      <td>0.967532</td>\n",
       "      <td>0.938312</td>\n",
       "    </tr>\n",
       "    <tr>\n",
       "      <th>multinomial_post</th>\n",
       "      <td>0.811688</td>\n",
       "      <td>0.803571</td>\n",
       "      <td>0.712662</td>\n",
       "      <td>0.612013</td>\n",
       "    </tr>\n",
       "    <tr>\n",
       "      <th>lr_title_post</th>\n",
       "      <td>0.98539</td>\n",
       "      <td>NaN</td>\n",
       "      <td>0.987013</td>\n",
       "      <td>NaN</td>\n",
       "    </tr>\n",
       "    <tr>\n",
       "      <th>randomforest_title_post</th>\n",
       "      <td>0.964286</td>\n",
       "      <td>NaN</td>\n",
       "      <td>0.961039</td>\n",
       "      <td>NaN</td>\n",
       "    </tr>\n",
       "    <tr>\n",
       "      <th>multinomial_title_post</th>\n",
       "      <td>0.951299</td>\n",
       "      <td>NaN</td>\n",
       "      <td>0.878247</td>\n",
       "      <td>NaN</td>\n",
       "    </tr>\n",
       "  </tbody>\n",
       "</table>\n",
       "</div>"
      ],
      "text/plain": [
       "                        cvec_score_1 cvec_score_2 tvec_score_1 tvec_score_2\n",
       "lr_title                    0.800325     0.780844     0.816558     0.810065\n",
       "randomforest_title          0.722403     0.706169     0.694805     0.696429\n",
       "multinomial_title           0.819805     0.810065     0.818182     0.810065\n",
       "lr_post                     0.983766     0.983766     0.993506     0.982143\n",
       "randomforest_post           0.969156     0.949675     0.967532     0.938312\n",
       "multinomial_post            0.811688     0.803571     0.712662     0.612013\n",
       "lr_title_post                0.98539          NaN     0.987013          NaN\n",
       "randomforest_title_post     0.964286          NaN     0.961039          NaN\n",
       "multinomial_title_post      0.951299          NaN     0.878247          NaN"
      ]
     },
     "execution_count": 64,
     "metadata": {},
     "output_type": "execute_result"
    }
   ],
   "source": [
    "score_df"
   ]
  },
  {
   "cell_type": "code",
   "execution_count": 65,
   "metadata": {},
   "outputs": [
    {
     "data": {
      "text/html": [
       "<div>\n",
       "<style scoped>\n",
       "    .dataframe tbody tr th:only-of-type {\n",
       "        vertical-align: middle;\n",
       "    }\n",
       "\n",
       "    .dataframe tbody tr th {\n",
       "        vertical-align: top;\n",
       "    }\n",
       "\n",
       "    .dataframe thead th {\n",
       "        text-align: right;\n",
       "    }\n",
       "</style>\n",
       "<table border=\"1\" class=\"dataframe\">\n",
       "  <thead>\n",
       "    <tr style=\"text-align: right;\">\n",
       "      <th></th>\n",
       "      <th>cvec_score_1</th>\n",
       "      <th>tvec_score_1</th>\n",
       "    </tr>\n",
       "  </thead>\n",
       "  <tbody>\n",
       "    <tr>\n",
       "      <th>lr_title</th>\n",
       "      <td>0.800325</td>\n",
       "      <td>0.816558</td>\n",
       "    </tr>\n",
       "    <tr>\n",
       "      <th>randomforest_title</th>\n",
       "      <td>0.722403</td>\n",
       "      <td>0.694805</td>\n",
       "    </tr>\n",
       "    <tr>\n",
       "      <th>multinomial_title</th>\n",
       "      <td>0.819805</td>\n",
       "      <td>0.818182</td>\n",
       "    </tr>\n",
       "    <tr>\n",
       "      <th>lr_post</th>\n",
       "      <td>0.983766</td>\n",
       "      <td>0.993506</td>\n",
       "    </tr>\n",
       "    <tr>\n",
       "      <th>randomforest_post</th>\n",
       "      <td>0.969156</td>\n",
       "      <td>0.967532</td>\n",
       "    </tr>\n",
       "    <tr>\n",
       "      <th>multinomial_post</th>\n",
       "      <td>0.811688</td>\n",
       "      <td>0.712662</td>\n",
       "    </tr>\n",
       "    <tr>\n",
       "      <th>lr_title_post</th>\n",
       "      <td>0.98539</td>\n",
       "      <td>0.987013</td>\n",
       "    </tr>\n",
       "    <tr>\n",
       "      <th>randomforest_title_post</th>\n",
       "      <td>0.964286</td>\n",
       "      <td>0.961039</td>\n",
       "    </tr>\n",
       "    <tr>\n",
       "      <th>multinomial_title_post</th>\n",
       "      <td>0.951299</td>\n",
       "      <td>0.878247</td>\n",
       "    </tr>\n",
       "  </tbody>\n",
       "</table>\n",
       "</div>"
      ],
      "text/plain": [
       "                        cvec_score_1 tvec_score_1\n",
       "lr_title                    0.800325     0.816558\n",
       "randomforest_title          0.722403     0.694805\n",
       "multinomial_title           0.819805     0.818182\n",
       "lr_post                     0.983766     0.993506\n",
       "randomforest_post           0.969156     0.967532\n",
       "multinomial_post            0.811688     0.712662\n",
       "lr_title_post                0.98539     0.987013\n",
       "randomforest_title_post     0.964286     0.961039\n",
       "multinomial_title_post      0.951299     0.878247"
      ]
     },
     "execution_count": 65,
     "metadata": {},
     "output_type": "execute_result"
    }
   ],
   "source": [
    "#going to take a look only at n-gram= 1\n",
    "drop = ['cvec_score_2', 'tvec_score_2']\n",
    "score_df.drop(score_df[drop], axis=1)"
   ]
  },
  {
   "cell_type": "markdown",
   "metadata": {},
   "source": [
    "`Observation:`\n",
    "If we take a look at all of our scores we can see that increasing n-gram did not help with increasing my score. When it did, it was on a weaker model. If I were to compare title, post, and title & post then the scores for my post class had the best scores. My title models were all overfit so they weren't very good at predicting which subreddit. One thing that I noticed when combining title and post together, you would normally think that this would increase scores for my models, but it actually decreased my scores for some of the models compared to just the post models. Overall, taking a look at all my models I think the logistic regression for post texts is the best model in determining what word best fits the two subreddits. I think that if given more time, I would go through each model and used gridsearch to fine tune the parameters better. Also, one of the main reasons Logistic Regression performed much better is because the two subreddits are unique from each other, which makes it linearly separable."
   ]
  },
  {
   "cell_type": "markdown",
   "metadata": {},
   "source": [
    "### Coefficients for my model"
   ]
  },
  {
   "cell_type": "code",
   "execution_count": 66,
   "metadata": {},
   "outputs": [],
   "source": [
    "#set x and y for train test split\n",
    "X_post = df.post\n",
    "y = df.subreddit"
   ]
  },
  {
   "cell_type": "code",
   "execution_count": 67,
   "metadata": {},
   "outputs": [],
   "source": [
    "X_train, X_test, y_train, y_test = train_test_split(X_post, y, test_size = 0.33, random_state=42)"
   ]
  },
  {
   "cell_type": "code",
   "execution_count": 68,
   "metadata": {},
   "outputs": [],
   "source": [
    "#n-gram = 1\n",
    "tvec = TfidfVectorizer(stop_words='english', ngram_range=(1,1)).fit(X_train)\n",
    "tvec_train_post = pd.DataFrame(tvec.transform(X_train).todense(), columns = tvec.get_feature_names())\n",
    "tvec_test_post = pd.DataFrame(tvec.transform(X_test).todense(), columns = tvec.get_feature_names())"
   ]
  },
  {
   "cell_type": "code",
   "execution_count": 69,
   "metadata": {
    "scrolled": true
   },
   "outputs": [
    {
     "data": {
      "text/plain": [
       "array([[ 0.08179845,  0.0163207 ,  0.0048552 , ..., -0.02912989,\n",
       "         0.01559141,  0.04677422]])"
      ]
     },
     "execution_count": 69,
     "metadata": {},
     "output_type": "execute_result"
    }
   ],
   "source": [
    "#picked my top model\n",
    "lr = LogisticRegression()\n",
    "lr.fit(tvec_train_post, y_train)\n",
    "y_pred = lr.predict(tvec_test_post)\n",
    "lr.coef_"
   ]
  },
  {
   "cell_type": "code",
   "execution_count": 70,
   "metadata": {},
   "outputs": [],
   "source": [
    "#establish an array for my features so that i can match it with my coef_\n",
    "features = np.array(list(tvec_train_post)).reshape(-1,1)\n",
    "\n",
    "#to round my coef numbers and shape it to be same as my features\n",
    "coeffs = np.reshape(np.round(lr.coef_,5),(-1,1))\n",
    "# concat the two arrays together \n",
    "coeffs = np.concatenate((features,coeffs),axis=1)\n",
    "\n",
    "#put it back into a data frame to sort the values\n",
    "coef_df = pd.DataFrame(coeffs,columns=['Features','Coeff'])\n",
    "coef_df = coef_df.sort_values('Coeff', ascending=False)"
   ]
  },
  {
   "cell_type": "code",
   "execution_count": 71,
   "metadata": {},
   "outputs": [
    {
     "data": {
      "text/plain": [
       "Features    object\n",
       "Coeff       object\n",
       "dtype: object"
      ]
     },
     "execution_count": 71,
     "metadata": {},
     "output_type": "execute_result"
    }
   ],
   "source": [
    "#check type\n",
    "coef_df.dtypes"
   ]
  },
  {
   "cell_type": "code",
   "execution_count": 72,
   "metadata": {},
   "outputs": [],
   "source": [
    "#convert coeff to float\n",
    "coef_df['Coeff'] = coef_df['Coeff'].astype('float')"
   ]
  },
  {
   "cell_type": "code",
   "execution_count": 73,
   "metadata": {},
   "outputs": [],
   "source": [
    "#exponential of coeff\n",
    "coef_df['log_odds'] = np.exp(abs(coef_df['Coeff']))"
   ]
  },
  {
   "cell_type": "code",
   "execution_count": 74,
   "metadata": {
    "scrolled": true
   },
   "outputs": [
    {
     "data": {
      "text/html": [
       "<div>\n",
       "<style scoped>\n",
       "    .dataframe tbody tr th:only-of-type {\n",
       "        vertical-align: middle;\n",
       "    }\n",
       "\n",
       "    .dataframe tbody tr th {\n",
       "        vertical-align: top;\n",
       "    }\n",
       "\n",
       "    .dataframe thead th {\n",
       "        text-align: right;\n",
       "    }\n",
       "</style>\n",
       "<table border=\"1\" class=\"dataframe\">\n",
       "  <thead>\n",
       "    <tr style=\"text-align: right;\">\n",
       "      <th></th>\n",
       "      <th>Features</th>\n",
       "      <th>Coeff</th>\n",
       "      <th>log_odds</th>\n",
       "    </tr>\n",
       "  </thead>\n",
       "  <tbody>\n",
       "    <tr>\n",
       "      <th>13209</th>\n",
       "      <td>user</td>\n",
       "      <td>2.43924</td>\n",
       "      <td>11.464325</td>\n",
       "    </tr>\n",
       "    <tr>\n",
       "      <th>2318</th>\n",
       "      <td>computer</td>\n",
       "      <td>2.41920</td>\n",
       "      <td>11.236866</td>\n",
       "    </tr>\n",
       "    <tr>\n",
       "      <th>13797</th>\n",
       "      <td>work</td>\n",
       "      <td>2.35052</td>\n",
       "      <td>10.491024</td>\n",
       "    </tr>\n",
       "    <tr>\n",
       "      <th>8836</th>\n",
       "      <td>phone</td>\n",
       "      <td>2.10577</td>\n",
       "      <td>8.213425</td>\n",
       "    </tr>\n",
       "    <tr>\n",
       "      <th>12050</th>\n",
       "      <td>support</td>\n",
       "      <td>2.07014</td>\n",
       "      <td>7.925933</td>\n",
       "    </tr>\n",
       "    <tr>\n",
       "      <th>12300</th>\n",
       "      <td>tech</td>\n",
       "      <td>2.06166</td>\n",
       "      <td>7.859005</td>\n",
       "    </tr>\n",
       "    <tr>\n",
       "      <th>3850</th>\n",
       "      <td>email</td>\n",
       "      <td>1.96192</td>\n",
       "      <td>7.112971</td>\n",
       "    </tr>\n",
       "    <tr>\n",
       "      <th>7990</th>\n",
       "      <td>new</td>\n",
       "      <td>1.96102</td>\n",
       "      <td>7.106572</td>\n",
       "    </tr>\n",
       "    <tr>\n",
       "      <th>2816</th>\n",
       "      <td>customer</td>\n",
       "      <td>1.90110</td>\n",
       "      <td>6.693253</td>\n",
       "    </tr>\n",
       "    <tr>\n",
       "      <th>13810</th>\n",
       "      <td>working</td>\n",
       "      <td>1.84633</td>\n",
       "      <td>6.336522</td>\n",
       "    </tr>\n",
       "    <tr>\n",
       "      <th>9125</th>\n",
       "      <td>power</td>\n",
       "      <td>1.59173</td>\n",
       "      <td>4.912240</td>\n",
       "    </tr>\n",
       "    <tr>\n",
       "      <th>7941</th>\n",
       "      <td>need</td>\n",
       "      <td>1.54747</td>\n",
       "      <td>4.699565</td>\n",
       "    </tr>\n",
       "    <tr>\n",
       "      <th>6779</th>\n",
       "      <td>laptop</td>\n",
       "      <td>1.53182</td>\n",
       "      <td>4.626590</td>\n",
       "    </tr>\n",
       "    <tr>\n",
       "      <th>6449</th>\n",
       "      <td>issue</td>\n",
       "      <td>1.51473</td>\n",
       "      <td>4.548193</td>\n",
       "    </tr>\n",
       "    <tr>\n",
       "      <th>8226</th>\n",
       "      <td>office</td>\n",
       "      <td>1.50547</td>\n",
       "      <td>4.506271</td>\n",
       "    </tr>\n",
       "    <tr>\n",
       "      <th>10863</th>\n",
       "      <td>server</td>\n",
       "      <td>1.50160</td>\n",
       "      <td>4.488866</td>\n",
       "    </tr>\n",
       "    <tr>\n",
       "      <th>8638</th>\n",
       "      <td>password</td>\n",
       "      <td>1.46712</td>\n",
       "      <td>4.336727</td>\n",
       "    </tr>\n",
       "    <tr>\n",
       "      <th>9274</th>\n",
       "      <td>printer</td>\n",
       "      <td>1.44254</td>\n",
       "      <td>4.231430</td>\n",
       "    </tr>\n",
       "    <tr>\n",
       "      <th>12516</th>\n",
       "      <td>ticket</td>\n",
       "      <td>1.44166</td>\n",
       "      <td>4.227708</td>\n",
       "    </tr>\n",
       "    <tr>\n",
       "      <th>2248</th>\n",
       "      <td>company</td>\n",
       "      <td>1.42993</td>\n",
       "      <td>4.178407</td>\n",
       "    </tr>\n",
       "  </tbody>\n",
       "</table>\n",
       "</div>"
      ],
      "text/plain": [
       "       Features    Coeff   log_odds\n",
       "13209      user  2.43924  11.464325\n",
       "2318   computer  2.41920  11.236866\n",
       "13797      work  2.35052  10.491024\n",
       "8836      phone  2.10577   8.213425\n",
       "12050   support  2.07014   7.925933\n",
       "12300      tech  2.06166   7.859005\n",
       "3850      email  1.96192   7.112971\n",
       "7990        new  1.96102   7.106572\n",
       "2816   customer  1.90110   6.693253\n",
       "13810   working  1.84633   6.336522\n",
       "9125      power  1.59173   4.912240\n",
       "7941       need  1.54747   4.699565\n",
       "6779     laptop  1.53182   4.626590\n",
       "6449      issue  1.51473   4.548193\n",
       "8226     office  1.50547   4.506271\n",
       "10863    server  1.50160   4.488866\n",
       "8638   password  1.46712   4.336727\n",
       "9274    printer  1.44254   4.231430\n",
       "12516    ticket  1.44166   4.227708\n",
       "2248    company  1.42993   4.178407"
      ]
     },
     "execution_count": 74,
     "metadata": {},
     "output_type": "execute_result"
    }
   ],
   "source": [
    "#check our coef df\n",
    "coef_df.head(20)"
   ]
  },
  {
   "cell_type": "markdown",
   "metadata": {},
   "source": [
    "`Observation:` I have listed the top 20 words that best predict subreddit talesfromtechsupport. Log odds column here helps us understand that when there is a one unit increase of that word present in the text then there is an increase in probability of predicting the subreddit. For example, the word user has about 1100% probability of predicting the post is from talesfromtechsupport."
   ]
  },
  {
   "cell_type": "code",
   "execution_count": 101,
   "metadata": {},
   "outputs": [],
   "source": [
    "#bar graph of top words\n",
    "top_20 = coef_df.drop(columns='Coeff')\n",
    "top_20.set_index('Features', inplace=True)\n",
    "top_20 = top_20[:20]"
   ]
  },
  {
   "cell_type": "code",
   "execution_count": 98,
   "metadata": {},
   "outputs": [
    {
     "data": {
      "image/png": "[encoded data removed]",
      "text/plain": [
       "<Figure size 576x576 with 1 Axes>"
      ]
     },
     "metadata": {},
     "output_type": "display_data"
    }
   ],
   "source": [
    "fig = plt.figure(figsize=(8,8))\n",
    "sns.barplot(top_20['log_odds'], top_20.index);"
   ]
  },
  {
   "cell_type": "markdown",
   "metadata": {},
   "source": [
    "### Classification Metrics"
   ]
  },
  {
   "cell_type": "code",
   "execution_count": 76,
   "metadata": {},
   "outputs": [],
   "source": [
    "#build a confusion matrix\n",
    "cm = confusion_matrix(y_test, y_pred)"
   ]
  },
  {
   "cell_type": "code",
   "execution_count": 77,
   "metadata": {},
   "outputs": [
    {
     "data": {
      "text/html": [
       "<div>\n",
       "<style scoped>\n",
       "    .dataframe tbody tr th:only-of-type {\n",
       "        vertical-align: middle;\n",
       "    }\n",
       "\n",
       "    .dataframe tbody tr th {\n",
       "        vertical-align: top;\n",
       "    }\n",
       "\n",
       "    .dataframe thead th {\n",
       "        text-align: right;\n",
       "    }\n",
       "</style>\n",
       "<table border=\"1\" class=\"dataframe\">\n",
       "  <thead>\n",
       "    <tr style=\"text-align: right;\">\n",
       "      <th></th>\n",
       "      <th>predicted jokes</th>\n",
       "      <th>predicted talesfromtechsupport</th>\n",
       "    </tr>\n",
       "  </thead>\n",
       "  <tbody>\n",
       "    <tr>\n",
       "      <th>actual jokes</th>\n",
       "      <td>298</td>\n",
       "      <td>1</td>\n",
       "    </tr>\n",
       "    <tr>\n",
       "      <th>actual talesfromtechsupport</th>\n",
       "      <td>3</td>\n",
       "      <td>314</td>\n",
       "    </tr>\n",
       "  </tbody>\n",
       "</table>\n",
       "</div>"
      ],
      "text/plain": [
       "                             predicted jokes  predicted talesfromtechsupport\n",
       "actual jokes                             298                               1\n",
       "actual talesfromtechsupport                3                             314"
      ]
     },
     "execution_count": 77,
     "metadata": {},
     "output_type": "execute_result"
    }
   ],
   "source": [
    "#set it into a dataframe for asthetics \n",
    "cm_df = pd.DataFrame(cm, columns=['predicted jokes', 'predicted talesfromtechsupport'], \n",
    "                     index=['actual jokes', 'actual talesfromtechsupport'])\n",
    "cm_df"
   ]
  },
  {
   "cell_type": "code",
   "execution_count": 78,
   "metadata": {},
   "outputs": [],
   "source": [
    "# set classifications for each cell\n",
    "tn, fp, fn, tp = cm.ravel()"
   ]
  },
  {
   "cell_type": "code",
   "execution_count": 79,
   "metadata": {
    "scrolled": true
   },
   "outputs": [
    {
     "name": "stdout",
     "output_type": "stream",
     "text": [
      "Accuracy: 0.9935064935064936\n",
      "Misclassification: 0.00649350649350644\n",
      "Sensitivity: 0.9905362776025236\n",
      "Specificity: 0.9966555183946488\n"
     ]
    }
   ],
   "source": [
    "accuracy = (tp + tn) / (tn + fp + fn + tp)\n",
    "misclassification = 1 - accuracy\n",
    "sensitivity = tp / (tp + fn)\n",
    "specificity = tn / (tn + fp)\n",
    "\n",
    "print('Accuracy:', accuracy)\n",
    "print('Misclassification:', misclassification)\n",
    "print('Sensitivity:', sensitivity)\n",
    "print('Specificity:', specificity)"
   ]
  },
  {
   "cell_type": "markdown",
   "metadata": {},
   "source": [
    "`Observation:`\n",
    "Starting with my accuracy metric, we can see that out of all our predictions we can pretty accurately predict our text with our subreddit. This directly relates to how we have such a low percentage in being incorrect(misclassification). In addition, both my sensitivity and specificity are high in percentage because we hardly have any error in our predictions. Since talesfromtechsupport subreddit is my true positive, If I were to optimize for a classificatin metric it would be specificity and i would try to minimize false positives. This is because I want to be able to most accurately predict this subreddit and have if possible 0% wrong predictions."
   ]
  },
  {
   "cell_type": "markdown",
   "metadata": {},
   "source": [
    "## ROC Curve"
   ]
  },
  {
   "cell_type": "code",
   "execution_count": 80,
   "metadata": {},
   "outputs": [],
   "source": [
    "#grabbing title logistic regression model's y pred_proba\n",
    "X_train_title, X_test_title, y_train_title, y_test_title = train_test_split(X_title , y , test_size = .33, random_state = 42)\n",
    "\n",
    "#n-gram = 1\n",
    "tvec_title = TfidfVectorizer(stop_words='english', ngram_range=(1,1)).fit(X_train_title)\n",
    "train_title = pd.DataFrame(tvec_title.transform(X_train_title).todense(), columns = tvec_title.get_feature_names())\n",
    "test_title = pd.DataFrame(tvec_title.transform(X_test_title).todense(), columns = tvec_title.get_feature_names())\n",
    "\n",
    "lr_title = LogisticRegression()\n",
    "lr_title.fit(train_title, y_train_title);"
   ]
  },
  {
   "cell_type": "code",
   "execution_count": 81,
   "metadata": {},
   "outputs": [],
   "source": [
    "#grabbing title and post logistic regression model's y pred_proba\n",
    "lr_title_post = LogisticRegression()\n",
    "lr_title_post.fit(cvec_title_post_train, y_train);"
   ]
  },
  {
   "cell_type": "code",
   "execution_count": 82,
   "metadata": {},
   "outputs": [
    {
     "data": {
      "image/png": "[encoded data removed]",
      "text/plain": [
       "<Figure size 576x576 with 1 Axes>"
      ]
     },
     "metadata": {},
     "output_type": "display_data"
    }
   ],
   "source": [
    "#ROC for Post\n",
    "y_pred_proba = lr.predict_proba(tvec_test_post)[::,1]\n",
    "fpr, tpr, _ = roc_curve(y_test,  y_pred_proba)\n",
    "auc = roc_auc_score(y_test, y_pred_proba)\n",
    "\n",
    "#ROC for Title\n",
    "y_title_proba = lr_title.predict_proba(test_title)[::,1]\n",
    "fpr_title, tpr_title, _ = roc_curve(y_test_title,  y_title_proba)\n",
    "auc_title = roc_auc_score(y_test_title, y_title_proba)\n",
    "\n",
    "#ROC for Title and Post\n",
    "title_post_proba = lr_title_post.predict_proba(cvec_title_post_test)[::,1]\n",
    "fpr_title_post, tpr_title_post, _ = roc_curve(y_test,  title_post_proba)\n",
    "auc_title_post = roc_auc_score(y_test, title_post_proba)\n",
    "\n",
    "\n",
    "plt.figure(figsize=(8,8))\n",
    "plt.plot(fpr,tpr,lw = 3, color='purple', label='Post ROC Curve %.5f' % auc)\n",
    "plt.plot(fpr_title,tpr_title,lw = 3, alpha=.5, color='darkgreen', label='Title ROC Curve %.5f' % auc_title)\n",
    "plt.plot(fpr_title_post, tpr_title_post, lw = 3, alpha=.5, color='darkorange', label='Title&Post ROC Curve %.5f' % auc_title_post)\n",
    "plt.plot([0,1], [0,1], lw = 3, linestyle ='--', color='grey')\n",
    "plt.legend(loc=4)\n",
    "plt.xlim([0.0, 1.0])\n",
    "plt.ylim([0.0, 1.05])\n",
    "plt.xlabel('False Positive Rate')\n",
    "plt.ylabel('True Positive Rate')\n",
    "plt.title('ROC Curve')\n",
    "plt.show()\n"
   ]
  },
  {
   "cell_type": "code",
   "execution_count": 83,
   "metadata": {},
   "outputs": [
    {
     "data": {
      "image/png": "[encoded data removed]",
      "text/plain": [
       "<Figure size 576x576 with 1 Axes>"
      ]
     },
     "metadata": {},
     "output_type": "display_data"
    }
   ],
   "source": [
    "#zoomed in version of the ROC above\n",
    "plt.figure(figsize=(8,8))\n",
    "plt.plot(fpr,tpr,lw = 3, color='purple', label='Post ROC Curve %.5f' % auc)\n",
    "plt.plot(fpr_title,tpr_title,lw = 3, alpha=.5, color='darkgreen', label='Title ROC Curve %.5f' % auc_title)\n",
    "plt.plot(fpr_title_post, tpr_title_post, lw = 3, alpha=.5, color='darkorange', label='Title&Post ROC Curve %.5f' % auc_title_post)\n",
    "plt.plot([0,1], [0,1], lw = 3, linestyle ='--', color='grey')\n",
    "plt.legend(loc=4)\n",
    "plt.xlim(-0.01, 0.17)\n",
    "plt.ylim(0, 1.05)\n",
    "plt.xlabel('False Positive Rate')\n",
    "plt.ylabel('True Positive Rate')\n",
    "plt.title('Top Left of ROC Curve')\n",
    "plt.show()"
   ]
  },
  {
   "cell_type": "markdown",
   "metadata": {},
   "source": [
    "The ROC curve here helps use understand the probabilty of accurately predicting the positive class subreddit. In this case we can see that the Post ROC curve did better than the title&post curve by a margin. "
   ]
  }
 ],
 "metadata": {
  "anaconda-cloud": {},
  "kernelspec": {
   "display_name": "Python [conda env:dsi]",
   "language": "python",
   "name": "conda-env-dsi-py"
  },
  "language_info": {
   "codemirror_mode": {
    "name": "ipython",
    "version": 3
   },
   "file_extension": ".py",
   "mimetype": "text/x-python",
   "name": "python",
   "nbconvert_exporter": "python",
   "pygments_lexer": "ipython3",
   "version": "3.6.5"
  },
  "varInspector": {
   "cols": {
    "lenName": 16,
    "lenType": 16,
    "lenVar": 40
   },
   "kernels_config": {
    "python": {
     "delete_cmd_postfix": "",
     "delete_cmd_prefix": "del ",
     "library": "var_list.py",
     "varRefreshCmd": "print(var_dic_list())"
    },
    "r": {
     "delete_cmd_postfix": ") ",
     "delete_cmd_prefix": "rm(",
     "library": "var_list.r",
     "varRefreshCmd": "cat(var_dic_list()) "
    }
   },
   "types_to_exclude": [
    "module",
    "function",
    "builtin_function_or_method",
    "instance",
    "_Feature"
   ],
   "window_display": false
  }
 },
 "nbformat": 4,
 "nbformat_minor": 1
}
